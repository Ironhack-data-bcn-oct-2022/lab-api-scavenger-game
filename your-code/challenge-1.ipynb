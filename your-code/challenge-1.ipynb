{
 "cells": [
  {
   "cell_type": "code",
   "execution_count": 2,
   "metadata": {},
   "outputs": [],
   "source": [
    "import json\n",
    "import requests"
   ]
  },
  {
   "cell_type": "markdown",
   "metadata": {},
   "source": [
    "Only if you're using your environmental variable eith the `.env` file, import/install the following modules. Otherwise it is not necessary:\n",
    "\n",
    "https://pypi.org/project/python-dotenv/"
   ]
  },
  {
   "cell_type": "code",
   "execution_count": 3,
   "metadata": {},
   "outputs": [],
   "source": [
    "import os\n",
    "from dotenv import load_dotenv"
   ]
  },
  {
   "cell_type": "code",
   "execution_count": 4,
   "metadata": {},
   "outputs": [],
   "source": [
    "! touch .env"
   ]
  },
  {
   "cell_type": "code",
   "execution_count": 5,
   "metadata": {},
   "outputs": [
    {
     "data": {
      "text/plain": [
       "True"
      ]
     },
     "execution_count": 5,
     "metadata": {},
     "output_type": "execute_result"
    }
   ],
   "source": [
    "load_dotenv()"
   ]
  },
  {
   "cell_type": "code",
   "execution_count": 6,
   "metadata": {},
   "outputs": [],
   "source": [
    "github = os.getenv(\"token\")"
   ]
  },
  {
   "cell_type": "markdown",
   "metadata": {},
   "source": [
    "# Challenge 1: Fork Languages\n",
    "\n",
    "You will find out how many programming languages are used among all the forks created from the main lab repo of your bootcamp. Assuming the main lab repo is ironhack-datalabs/datamad1020-rev, you will:\n",
    "\n",
    "1. Obtain the full list of forks created from the main lab repo via Github API.\n",
    "\n",
    "2. Loop the JSON response to find out the language attribute of each fork. Use an array to store the language attributes of each fork.\n",
    "\n",
    "Hint: Each language should appear only once in your array.\n",
    "\n",
    "3. Print the language array. It should be something like:\n",
    "\n",
    "[\"Python\", \"Jupyter Notebook\", \"HTML\"]\n"
   ]
  },
  {
   "cell_type": "markdown",
   "metadata": {},
   "source": [
    "**HINT:**: Create a list with every **language_url** you find in every fork "
   ]
  },
  {
   "cell_type": "markdown",
   "metadata": {},
   "source": [
    "⚠️ **Remember to limit your output before submission**."
   ]
  },
  {
   "cell_type": "code",
   "execution_count": 7,
   "metadata": {},
   "outputs": [],
   "source": [
    "owner = \"ironhack-datalabs/datamad1020-rev\"\n",
    "url = f\"https://api.github.com/repos/{owner}/forks\"\n",
    "response_1 = requests.get(url)\n",
    "res = response_1.json()"
   ]
  },
  {
   "cell_type": "code",
   "execution_count": 13,
   "metadata": {},
   "outputs": [
    {
     "data": {
      "text/plain": [
       "{'id': 554816267,\n",
       " 'node_id': 'R_kgDOIRHTCw',\n",
       " 'name': 'datamad1020-rev',\n",
       " 'full_name': 'queraltic/datamad1020-rev',\n",
       " 'private': False,\n",
       " 'owner': {'login': 'queraltic',\n",
       "  'id': 114853570,\n",
       "  'node_id': 'U_kgDOBtiGwg',\n",
       "  'avatar_url': 'https://avatars.githubusercontent.com/u/114853570?v=4',\n",
       "  'gravatar_id': '',\n",
       "  'url': 'https://api.github.com/users/queraltic',\n",
       "  'html_url': 'https://github.com/queraltic',\n",
       "  'followers_url': 'https://api.github.com/users/queraltic/followers',\n",
       "  'following_url': 'https://api.github.com/users/queraltic/following{/other_user}',\n",
       "  'gists_url': 'https://api.github.com/users/queraltic/gists{/gist_id}',\n",
       "  'starred_url': 'https://api.github.com/users/queraltic/starred{/owner}{/repo}',\n",
       "  'subscriptions_url': 'https://api.github.com/users/queraltic/subscriptions',\n",
       "  'organizations_url': 'https://api.github.com/users/queraltic/orgs',\n",
       "  'repos_url': 'https://api.github.com/users/queraltic/repos',\n",
       "  'events_url': 'https://api.github.com/users/queraltic/events{/privacy}',\n",
       "  'received_events_url': 'https://api.github.com/users/queraltic/received_events',\n",
       "  'type': 'User',\n",
       "  'site_admin': False},\n",
       " 'html_url': 'https://github.com/queraltic/datamad1020-rev',\n",
       " 'description': None,\n",
       " 'fork': True,\n",
       " 'url': 'https://api.github.com/repos/queraltic/datamad1020-rev',\n",
       " 'forks_url': 'https://api.github.com/repos/queraltic/datamad1020-rev/forks',\n",
       " 'keys_url': 'https://api.github.com/repos/queraltic/datamad1020-rev/keys{/key_id}',\n",
       " 'collaborators_url': 'https://api.github.com/repos/queraltic/datamad1020-rev/collaborators{/collaborator}',\n",
       " 'teams_url': 'https://api.github.com/repos/queraltic/datamad1020-rev/teams',\n",
       " 'hooks_url': 'https://api.github.com/repos/queraltic/datamad1020-rev/hooks',\n",
       " 'issue_events_url': 'https://api.github.com/repos/queraltic/datamad1020-rev/issues/events{/number}',\n",
       " 'events_url': 'https://api.github.com/repos/queraltic/datamad1020-rev/events',\n",
       " 'assignees_url': 'https://api.github.com/repos/queraltic/datamad1020-rev/assignees{/user}',\n",
       " 'branches_url': 'https://api.github.com/repos/queraltic/datamad1020-rev/branches{/branch}',\n",
       " 'tags_url': 'https://api.github.com/repos/queraltic/datamad1020-rev/tags',\n",
       " 'blobs_url': 'https://api.github.com/repos/queraltic/datamad1020-rev/git/blobs{/sha}',\n",
       " 'git_tags_url': 'https://api.github.com/repos/queraltic/datamad1020-rev/git/tags{/sha}',\n",
       " 'git_refs_url': 'https://api.github.com/repos/queraltic/datamad1020-rev/git/refs{/sha}',\n",
       " 'trees_url': 'https://api.github.com/repos/queraltic/datamad1020-rev/git/trees{/sha}',\n",
       " 'statuses_url': 'https://api.github.com/repos/queraltic/datamad1020-rev/statuses/{sha}',\n",
       " 'languages_url': 'https://api.github.com/repos/queraltic/datamad1020-rev/languages',\n",
       " 'stargazers_url': 'https://api.github.com/repos/queraltic/datamad1020-rev/stargazers',\n",
       " 'contributors_url': 'https://api.github.com/repos/queraltic/datamad1020-rev/contributors',\n",
       " 'subscribers_url': 'https://api.github.com/repos/queraltic/datamad1020-rev/subscribers',\n",
       " 'subscription_url': 'https://api.github.com/repos/queraltic/datamad1020-rev/subscription',\n",
       " 'commits_url': 'https://api.github.com/repos/queraltic/datamad1020-rev/commits{/sha}',\n",
       " 'git_commits_url': 'https://api.github.com/repos/queraltic/datamad1020-rev/git/commits{/sha}',\n",
       " 'comments_url': 'https://api.github.com/repos/queraltic/datamad1020-rev/comments{/number}',\n",
       " 'issue_comment_url': 'https://api.github.com/repos/queraltic/datamad1020-rev/issues/comments{/number}',\n",
       " 'contents_url': 'https://api.github.com/repos/queraltic/datamad1020-rev/contents/{+path}',\n",
       " 'compare_url': 'https://api.github.com/repos/queraltic/datamad1020-rev/compare/{base}...{head}',\n",
       " 'merges_url': 'https://api.github.com/repos/queraltic/datamad1020-rev/merges',\n",
       " 'archive_url': 'https://api.github.com/repos/queraltic/datamad1020-rev/{archive_format}{/ref}',\n",
       " 'downloads_url': 'https://api.github.com/repos/queraltic/datamad1020-rev/downloads',\n",
       " 'issues_url': 'https://api.github.com/repos/queraltic/datamad1020-rev/issues{/number}',\n",
       " 'pulls_url': 'https://api.github.com/repos/queraltic/datamad1020-rev/pulls{/number}',\n",
       " 'milestones_url': 'https://api.github.com/repos/queraltic/datamad1020-rev/milestones{/number}',\n",
       " 'notifications_url': 'https://api.github.com/repos/queraltic/datamad1020-rev/notifications{?since,all,participating}',\n",
       " 'labels_url': 'https://api.github.com/repos/queraltic/datamad1020-rev/labels{/name}',\n",
       " 'releases_url': 'https://api.github.com/repos/queraltic/datamad1020-rev/releases{/id}',\n",
       " 'deployments_url': 'https://api.github.com/repos/queraltic/datamad1020-rev/deployments',\n",
       " 'created_at': '2022-10-20T12:53:40Z',\n",
       " 'updated_at': '2022-07-21T16:02:51Z',\n",
       " 'pushed_at': '2022-07-21T16:02:45Z',\n",
       " 'git_url': 'git://github.com/queraltic/datamad1020-rev.git',\n",
       " 'ssh_url': 'git@github.com:queraltic/datamad1020-rev.git',\n",
       " 'clone_url': 'https://github.com/queraltic/datamad1020-rev.git',\n",
       " 'svn_url': 'https://github.com/queraltic/datamad1020-rev',\n",
       " 'homepage': None,\n",
       " 'size': 164268,\n",
       " 'stargazers_count': 0,\n",
       " 'watchers_count': 0,\n",
       " 'language': None,\n",
       " 'has_issues': False,\n",
       " 'has_projects': True,\n",
       " 'has_downloads': True,\n",
       " 'has_wiki': True,\n",
       " 'has_pages': False,\n",
       " 'forks_count': 0,\n",
       " 'mirror_url': None,\n",
       " 'archived': False,\n",
       " 'disabled': False,\n",
       " 'open_issues_count': 0,\n",
       " 'license': {'key': 'agpl-3.0',\n",
       "  'name': 'GNU Affero General Public License v3.0',\n",
       "  'spdx_id': 'AGPL-3.0',\n",
       "  'url': 'https://api.github.com/licenses/agpl-3.0',\n",
       "  'node_id': 'MDc6TGljZW5zZTE='},\n",
       " 'allow_forking': True,\n",
       " 'is_template': False,\n",
       " 'web_commit_signoff_required': False,\n",
       " 'topics': [],\n",
       " 'visibility': 'public',\n",
       " 'forks': 0,\n",
       " 'open_issues': 0,\n",
       " 'watchers': 0,\n",
       " 'default_branch': 'master'}"
      ]
     },
     "execution_count": 13,
     "metadata": {},
     "output_type": "execute_result"
    }
   ],
   "source": [
    "res[0]"
   ]
  },
  {
   "cell_type": "code",
   "execution_count": 8,
   "metadata": {},
   "outputs": [
    {
     "data": {
      "text/plain": [
       "['queraltic',\n",
       " 'LuisSerranoCerame',\n",
       " 'silviarico',\n",
       " 'BlancaRibas',\n",
       " 'acamposla',\n",
       " 'PaolaKarina',\n",
       " 'VictorRodriguezIronhack',\n",
       " 'sonia-quintanar',\n",
       " 'AnaMA96',\n",
       " 'datamad-instructor',\n",
       " 'rafadedubra',\n",
       " 'Nuria-Pe',\n",
       " 'SergioCaler0',\n",
       " 'LucianaLescano',\n",
       " 'Mario-Sainz',\n",
       " 'juanmarin00',\n",
       " 'JoseManuel-G',\n",
       " 'jesus-perez-366',\n",
       " 'sgonzalainen',\n",
       " 'Pptrv',\n",
       " 'Marxess',\n",
       " 'patri-carrasco',\n",
       " 'BlueJotas',\n",
       " 'jvazquezgalvezlp',\n",
       " 'leticia-sobrino',\n",
       " 'JaimeCalcedo']"
      ]
     },
     "execution_count": 8,
     "metadata": {},
     "output_type": "execute_result"
    }
   ],
   "source": [
    "fork_names = []\n",
    "for i in range(len(res)):\n",
    "    fork_names.append (res[i][\"owner\"][\"login\"])\n",
    "fork_names"
   ]
  },
  {
   "cell_type": "code",
   "execution_count": 9,
   "metadata": {},
   "outputs": [
    {
     "data": {
      "text/plain": [
       "['https://api.github.com/repos/queraltic/datamad1020-rev/languages',\n",
       " 'https://api.github.com/repos/LuisSerranoCerame/datamad1020-rev/languages',\n",
       " 'https://api.github.com/repos/silviarico/datamad1020-rev/languages',\n",
       " 'https://api.github.com/repos/BlancaRibas/datamad1020-rev/languages',\n",
       " 'https://api.github.com/repos/acamposla/datamad1020-rev/languages',\n",
       " 'https://api.github.com/repos/PaolaKarina/datamad1020-rev/languages',\n",
       " 'https://api.github.com/repos/VictorRodriguezIronhack/datamad1020-rev/languages',\n",
       " 'https://api.github.com/repos/sonia-quintanar/datamad1020-rev/languages',\n",
       " 'https://api.github.com/repos/AnaMA96/datamad1020-rev/languages',\n",
       " 'https://api.github.com/repos/datamad-instructor/datamad1020-rev/languages',\n",
       " 'https://api.github.com/repos/rafadedubra/datamad1020-rev/languages',\n",
       " 'https://api.github.com/repos/Nuria-Pe/datamad1020-rev/languages',\n",
       " 'https://api.github.com/repos/SergioCaler0/datamad1020-rev/languages',\n",
       " 'https://api.github.com/repos/LucianaLescano/datamad1020-rev/languages',\n",
       " 'https://api.github.com/repos/Mario-Sainz/datamad1020-rev/languages',\n",
       " 'https://api.github.com/repos/juanmarin00/datamad1020-rev/languages',\n",
       " 'https://api.github.com/repos/JoseManuel-G/datamad1020-rev/languages',\n",
       " 'https://api.github.com/repos/jesus-perez-366/datamad1020-rev/languages',\n",
       " 'https://api.github.com/repos/sgonzalainen/datamad1020-rev/languages',\n",
       " 'https://api.github.com/repos/Pptrv/datamad1020-rev/languages',\n",
       " 'https://api.github.com/repos/Marxess/datamad1020-rev/languages',\n",
       " 'https://api.github.com/repos/patri-carrasco/datamad1020-rev/languages',\n",
       " 'https://api.github.com/repos/BlueJotas/datamad1020-rev/languages',\n",
       " 'https://api.github.com/repos/jvazquezgalvezlp/datamad1020-rev/languages',\n",
       " 'https://api.github.com/repos/leticia-sobrino/datamad1020-rev/languages',\n",
       " 'https://api.github.com/repos/JaimeCalcedo/datamad1020-rev/languages']"
      ]
     },
     "execution_count": 9,
     "metadata": {},
     "output_type": "execute_result"
    }
   ],
   "source": [
    "fork_list = []\n",
    "for i in range(len(res)):\n",
    "    fork_list.append (res[i][\"languages_url\"])\n",
    "fork_list"
   ]
  },
  {
   "cell_type": "code",
   "execution_count": 10,
   "metadata": {},
   "outputs": [
    {
     "data": {
      "text/plain": [
       "[{'Jupyter Notebook': 767922, 'HTML': 498316, 'Python': 38591},\n",
       " {'Jupyter Notebook': 767922, 'HTML': 498316, 'Python': 38591},\n",
       " {'Jupyter Notebook': 767922, 'HTML': 498316, 'Python': 38591},\n",
       " {'Jupyter Notebook': 767922, 'HTML': 498316, 'Python': 38591},\n",
       " {'Jupyter Notebook': 767922, 'HTML': 498316, 'Python': 38591},\n",
       " {'Jupyter Notebook': 767922, 'HTML': 498316, 'Python': 38591},\n",
       " {'Jupyter Notebook': 767922, 'HTML': 498316, 'Python': 38571},\n",
       " {'Jupyter Notebook': 767922, 'HTML': 498316, 'Python': 38571},\n",
       " {'Jupyter Notebook': 767922, 'HTML': 498316, 'Python': 38571},\n",
       " {'Jupyter Notebook': 1347658, 'HTML': 498316, 'Python': 38571},\n",
       " {'Jupyter Notebook': 767922, 'HTML': 498316, 'Python': 38571},\n",
       " {'Jupyter Notebook': 767922, 'HTML': 498316, 'Python': 38571},\n",
       " {'Jupyter Notebook': 767922, 'HTML': 498316, 'Python': 38571},\n",
       " {'Jupyter Notebook': 767922, 'HTML': 498316, 'Python': 38571},\n",
       " {'Jupyter Notebook': 767922, 'HTML': 498316, 'Python': 38571},\n",
       " {'Jupyter Notebook': 767922, 'HTML': 498316, 'Python': 38571},\n",
       " {'Jupyter Notebook': 767922, 'HTML': 498316, 'Python': 38571},\n",
       " {'Jupyter Notebook': 767922, 'HTML': 498316, 'Python': 38571},\n",
       " {'Jupyter Notebook': 767922, 'HTML': 498316, 'Python': 38571},\n",
       " {'Jupyter Notebook': 767922, 'HTML': 498316, 'Python': 38571},\n",
       " {'Jupyter Notebook': 767922, 'HTML': 498316, 'Python': 38571},\n",
       " {'Jupyter Notebook': 767922, 'HTML': 498316, 'Python': 38571},\n",
       " {'Jupyter Notebook': 767922, 'HTML': 498316, 'Python': 38571},\n",
       " {'Jupyter Notebook': 767922, 'HTML': 498316, 'Python': 38571},\n",
       " {'Jupyter Notebook': 767922, 'HTML': 498316, 'Python': 38571},\n",
       " {'Jupyter Notebook': 767922, 'HTML': 498316, 'Python': 38571}]"
      ]
     },
     "execution_count": 10,
     "metadata": {},
     "output_type": "execute_result"
    }
   ],
   "source": [
    "lang=[]\n",
    "for item in fork_names:\n",
    "    urlnew = f\"https://api.github.com/repos/{item}/datamad1020-rev/languages\"\n",
    "    responsefin = requests.get(urlnew)\n",
    "    repofi = responsefin.json()\n",
    "    lang.append(repofi)\n",
    "lang"
   ]
  },
  {
   "cell_type": "code",
   "execution_count": 19,
   "metadata": {},
   "outputs": [
    {
     "data": {
      "text/plain": [
       "['HTML', 'Python', 'Jupyter Notebook']"
      ]
     },
     "execution_count": 19,
     "metadata": {},
     "output_type": "execute_result"
    }
   ],
   "source": [
    "answer = []\n",
    "for i in lang:\n",
    "    for a,b in i.items():\n",
    "        answer.append(a)\n",
    "\n",
    "myset = set(answer)\n",
    "list_ = list(myset)\n",
    "list_"
   ]
  }
 ],
 "metadata": {
  "kernelspec": {
   "display_name": "Python 3.10.4 ('ironhack')",
   "language": "python",
   "name": "python3"
  },
  "language_info": {
   "codemirror_mode": {
    "name": "ipython",
    "version": 3
   },
   "file_extension": ".py",
   "mimetype": "text/x-python",
   "name": "python",
   "nbconvert_exporter": "python",
   "pygments_lexer": "ipython3",
   "version": "3.10.4"
  },
  "toc": {
   "base_numbering": 1,
   "nav_menu": {},
   "number_sections": true,
   "sideBar": true,
   "skip_h1_title": true,
   "title_cell": "Table of Contents",
   "title_sidebar": "Contents",
   "toc_cell": false,
   "toc_position": {},
   "toc_section_display": true,
   "toc_window_display": false
  },
  "vscode": {
   "interpreter": {
    "hash": "10cad967c453900039007de2b11d94e822a1579bed14f6590fb511028dcecd61"
   }
  }
 },
 "nbformat": 4,
 "nbformat_minor": 2
}
