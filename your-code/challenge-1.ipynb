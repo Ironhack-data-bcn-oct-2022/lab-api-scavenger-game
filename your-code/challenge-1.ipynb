{
 "cells": [
  {
   "cell_type": "code",
   "execution_count": 67,
   "metadata": {},
   "outputs": [],
   "source": [
    "import json\n",
    "import requests"
   ]
  },
  {
   "cell_type": "markdown",
   "metadata": {},
   "source": [
    "Only if you're using your environmental variable eith the `.env` file, import/install the following modules. Otherwise it is not necessary:\n",
    "\n",
    "https://pypi.org/project/python-dotenv/"
   ]
  },
  {
   "cell_type": "code",
   "execution_count": 68,
   "metadata": {},
   "outputs": [],
   "source": [
    "import os\n",
    "from dotenv import load_dotenv"
   ]
  },
  {
   "cell_type": "code",
   "execution_count": 69,
   "metadata": {},
   "outputs": [],
   "source": [
    "#pip install python-dotenv"
   ]
  },
  {
   "cell_type": "code",
   "execution_count": 70,
   "metadata": {},
   "outputs": [
    {
     "data": {
      "text/plain": [
       "True"
      ]
     },
     "execution_count": 70,
     "metadata": {},
     "output_type": "execute_result"
    }
   ],
   "source": [
    "load_dotenv()"
   ]
  },
  {
   "cell_type": "code",
   "execution_count": 71,
   "metadata": {},
   "outputs": [],
   "source": [
    "github = os.getenv(\"token\")\n"
   ]
  },
  {
   "cell_type": "markdown",
   "metadata": {},
   "source": [
    "# Challenge 1: Fork Languages\n",
    "\n",
    "You will find out how many programming languages are used among all the forks created from the main lab repo of your bootcamp. Assuming the main lab repo is ironhack-datalabs/datamad1020-rev, you will:\n",
    "\n",
    "1. Obtain the full list of forks created from the main lab repo via Github API.\n",
    "\n",
    "2. Loop the JSON response to find out the language attribute of each fork. Use an array to store the language attributes of each fork.\n",
    "\n",
    "Hint: Each language should appear only once in your array.\n",
    "\n",
    "3. Print the language array. It should be something like:\n",
    "\n",
    "[\"Python\", \"Jupyter Notebook\", \"HTML\"]\n"
   ]
  },
  {
   "cell_type": "markdown",
   "metadata": {},
   "source": [
    "**HINT:**: Create a list with every **language_url** you find in every fork "
   ]
  },
  {
   "cell_type": "markdown",
   "metadata": {},
   "source": [
    "⚠️ **Remember to limit your output before submission**."
   ]
  },
  {
   "cell_type": "code",
   "execution_count": 72,
   "metadata": {},
   "outputs": [],
   "source": [
    "repo = \"ironhack-datalabs/datamad1020-rev\"\n",
    "url = f\"https://api.github.com/repos/{repo}/forks\"\n",
    "#parameters = {\"Authorization\":f\"token {github}\"}   params = parameters\n",
    "res = requests.get(url)"
   ]
  },
  {
   "cell_type": "code",
   "execution_count": 73,
   "metadata": {},
   "outputs": [
    {
     "data": {
      "text/plain": [
       "<Response [403]>"
      ]
     },
     "execution_count": 73,
     "metadata": {},
     "output_type": "execute_result"
    }
   ],
   "source": [
    "res"
   ]
  },
  {
   "cell_type": "code",
   "execution_count": 75,
   "metadata": {},
   "outputs": [],
   "source": [
    " format1 = res.json()"
   ]
  },
  {
   "cell_type": "code",
   "execution_count": 66,
   "metadata": {},
   "outputs": [
    {
     "data": {
      "text/plain": [
       "{'message': \"API rate limit exceeded for 79.153.85.203. (But here's the good news: Authenticated requests get a higher rate limit. Check out the documentation for more details.)\",\n",
       " 'documentation_url': 'https://docs.github.com/rest/overview/resources-in-the-rest-api#rate-limiting'}"
      ]
     },
     "execution_count": 66,
     "metadata": {},
     "output_type": "execute_result"
    }
   ],
   "source": [
    "format1"
   ]
  },
  {
   "cell_type": "code",
   "execution_count": 57,
   "metadata": {},
   "outputs": [
    {
     "data": {
      "text/plain": [
       "['https://api.github.com/repos/queraltic/datamad1020-rev/languages',\n",
       " 'https://api.github.com/repos/LuisSerranoCerame/datamad1020-rev/languages',\n",
       " 'https://api.github.com/repos/silviarico/datamad1020-rev/languages',\n",
       " 'https://api.github.com/repos/BlancaRibas/datamad1020-rev/languages',\n",
       " 'https://api.github.com/repos/acamposla/datamad1020-rev/languages',\n",
       " 'https://api.github.com/repos/PaolaKarina/datamad1020-rev/languages',\n",
       " 'https://api.github.com/repos/VictorRodriguezIronhack/datamad1020-rev/languages',\n",
       " 'https://api.github.com/repos/sonia-quintanar/datamad1020-rev/languages',\n",
       " 'https://api.github.com/repos/AnaMA96/datamad1020-rev/languages',\n",
       " 'https://api.github.com/repos/datamad-instructor/datamad1020-rev/languages',\n",
       " 'https://api.github.com/repos/rafadedubra/datamad1020-rev/languages',\n",
       " 'https://api.github.com/repos/Nuria-Pe/datamad1020-rev/languages',\n",
       " 'https://api.github.com/repos/SergioCaler0/datamad1020-rev/languages',\n",
       " 'https://api.github.com/repos/LucianaLescano/datamad1020-rev/languages',\n",
       " 'https://api.github.com/repos/Mario-Sainz/datamad1020-rev/languages',\n",
       " 'https://api.github.com/repos/juanmarin00/datamad1020-rev/languages',\n",
       " 'https://api.github.com/repos/JoseManuel-G/datamad1020-rev/languages',\n",
       " 'https://api.github.com/repos/jesus-perez-366/datamad1020-rev/languages',\n",
       " 'https://api.github.com/repos/sgonzalainen/datamad1020-rev/languages',\n",
       " 'https://api.github.com/repos/Pptrv/datamad1020-rev/languages',\n",
       " 'https://api.github.com/repos/Marxess/datamad1020-rev/languages',\n",
       " 'https://api.github.com/repos/patri-carrasco/datamad1020-rev/languages',\n",
       " 'https://api.github.com/repos/BlueJotas/datamad1020-rev/languages',\n",
       " 'https://api.github.com/repos/jvazquezgalvezlp/datamad1020-rev/languages',\n",
       " 'https://api.github.com/repos/leticia-sobrino/datamad1020-rev/languages',\n",
       " 'https://api.github.com/repos/JaimeCalcedo/datamad1020-rev/languages']"
      ]
     },
     "execution_count": 57,
     "metadata": {},
     "output_type": "execute_result"
    }
   ],
   "source": [
    "fork_names = []\n",
    "for i in range(len(res.json())):\n",
    "    fork_names.append(res.json()[i]['owner']['login'])\n",
    "fork_repos"
   ]
  },
  {
   "cell_type": "code",
   "execution_count": 58,
   "metadata": {},
   "outputs": [
    {
     "data": {
      "text/plain": [
       "[{'Jupyter Notebook': 767922, 'HTML': 498316, 'Python': 38591},\n",
       " {'Jupyter Notebook': 767922, 'HTML': 498316, 'Python': 38591},\n",
       " {'Jupyter Notebook': 767922, 'HTML': 498316, 'Python': 38591},\n",
       " {'Jupyter Notebook': 767922, 'HTML': 498316, 'Python': 38591},\n",
       " {'Jupyter Notebook': 767922, 'HTML': 498316, 'Python': 38591},\n",
       " {'Jupyter Notebook': 767922, 'HTML': 498316, 'Python': 38591},\n",
       " {'Jupyter Notebook': 767922, 'HTML': 498316, 'Python': 38571},\n",
       " {'message': \"API rate limit exceeded for 176.83.21.142. (But here's the good news: Authenticated requests get a higher rate limit. Check out the documentation for more details.)\",\n",
       "  'documentation_url': 'https://docs.github.com/rest/overview/resources-in-the-rest-api#rate-limiting'},\n",
       " {'message': \"API rate limit exceeded for 176.83.21.142. (But here's the good news: Authenticated requests get a higher rate limit. Check out the documentation for more details.)\",\n",
       "  'documentation_url': 'https://docs.github.com/rest/overview/resources-in-the-rest-api#rate-limiting'},\n",
       " {'message': \"API rate limit exceeded for 176.83.21.142. (But here's the good news: Authenticated requests get a higher rate limit. Check out the documentation for more details.)\",\n",
       "  'documentation_url': 'https://docs.github.com/rest/overview/resources-in-the-rest-api#rate-limiting'},\n",
       " {'message': \"API rate limit exceeded for 176.83.21.142. (But here's the good news: Authenticated requests get a higher rate limit. Check out the documentation for more details.)\",\n",
       "  'documentation_url': 'https://docs.github.com/rest/overview/resources-in-the-rest-api#rate-limiting'},\n",
       " {'message': \"API rate limit exceeded for 176.83.21.142. (But here's the good news: Authenticated requests get a higher rate limit. Check out the documentation for more details.)\",\n",
       "  'documentation_url': 'https://docs.github.com/rest/overview/resources-in-the-rest-api#rate-limiting'},\n",
       " {'message': \"API rate limit exceeded for 176.83.21.142. (But here's the good news: Authenticated requests get a higher rate limit. Check out the documentation for more details.)\",\n",
       "  'documentation_url': 'https://docs.github.com/rest/overview/resources-in-the-rest-api#rate-limiting'},\n",
       " {'message': \"API rate limit exceeded for 176.83.21.142. (But here's the good news: Authenticated requests get a higher rate limit. Check out the documentation for more details.)\",\n",
       "  'documentation_url': 'https://docs.github.com/rest/overview/resources-in-the-rest-api#rate-limiting'},\n",
       " {'message': \"API rate limit exceeded for 176.83.21.142. (But here's the good news: Authenticated requests get a higher rate limit. Check out the documentation for more details.)\",\n",
       "  'documentation_url': 'https://docs.github.com/rest/overview/resources-in-the-rest-api#rate-limiting'},\n",
       " {'message': \"API rate limit exceeded for 176.83.21.142. (But here's the good news: Authenticated requests get a higher rate limit. Check out the documentation for more details.)\",\n",
       "  'documentation_url': 'https://docs.github.com/rest/overview/resources-in-the-rest-api#rate-limiting'},\n",
       " {'message': \"API rate limit exceeded for 176.83.21.142. (But here's the good news: Authenticated requests get a higher rate limit. Check out the documentation for more details.)\",\n",
       "  'documentation_url': 'https://docs.github.com/rest/overview/resources-in-the-rest-api#rate-limiting'},\n",
       " {'message': \"API rate limit exceeded for 176.83.21.142. (But here's the good news: Authenticated requests get a higher rate limit. Check out the documentation for more details.)\",\n",
       "  'documentation_url': 'https://docs.github.com/rest/overview/resources-in-the-rest-api#rate-limiting'},\n",
       " {'message': \"API rate limit exceeded for 176.83.21.142. (But here's the good news: Authenticated requests get a higher rate limit. Check out the documentation for more details.)\",\n",
       "  'documentation_url': 'https://docs.github.com/rest/overview/resources-in-the-rest-api#rate-limiting'},\n",
       " {'message': \"API rate limit exceeded for 176.83.21.142. (But here's the good news: Authenticated requests get a higher rate limit. Check out the documentation for more details.)\",\n",
       "  'documentation_url': 'https://docs.github.com/rest/overview/resources-in-the-rest-api#rate-limiting'},\n",
       " {'message': \"API rate limit exceeded for 176.83.21.142. (But here's the good news: Authenticated requests get a higher rate limit. Check out the documentation for more details.)\",\n",
       "  'documentation_url': 'https://docs.github.com/rest/overview/resources-in-the-rest-api#rate-limiting'},\n",
       " {'message': \"API rate limit exceeded for 176.83.21.142. (But here's the good news: Authenticated requests get a higher rate limit. Check out the documentation for more details.)\",\n",
       "  'documentation_url': 'https://docs.github.com/rest/overview/resources-in-the-rest-api#rate-limiting'},\n",
       " {'message': \"API rate limit exceeded for 176.83.21.142. (But here's the good news: Authenticated requests get a higher rate limit. Check out the documentation for more details.)\",\n",
       "  'documentation_url': 'https://docs.github.com/rest/overview/resources-in-the-rest-api#rate-limiting'},\n",
       " {'message': \"API rate limit exceeded for 176.83.21.142. (But here's the good news: Authenticated requests get a higher rate limit. Check out the documentation for more details.)\",\n",
       "  'documentation_url': 'https://docs.github.com/rest/overview/resources-in-the-rest-api#rate-limiting'},\n",
       " {'message': \"API rate limit exceeded for 176.83.21.142. (But here's the good news: Authenticated requests get a higher rate limit. Check out the documentation for more details.)\",\n",
       "  'documentation_url': 'https://docs.github.com/rest/overview/resources-in-the-rest-api#rate-limiting'},\n",
       " {'message': \"API rate limit exceeded for 176.83.21.142. (But here's the good news: Authenticated requests get a higher rate limit. Check out the documentation for more details.)\",\n",
       "  'documentation_url': 'https://docs.github.com/rest/overview/resources-in-the-rest-api#rate-limiting'}]"
      ]
     },
     "execution_count": 58,
     "metadata": {},
     "output_type": "execute_result"
    }
   ],
   "source": [
    "languages = []\n",
    "for i in fork_names:\n",
    "    url = f\"https://api.github.com/repos/{i}/datamad1020-rev/languages\"\n",
    "    res = requests.get(url)\n",
    "    repo = res.json()\n",
    "    languages.append(repo)\n",
    "languages\n",
    "\n",
    "    "
   ]
  },
  {
   "cell_type": "code",
   "execution_count": 62,
   "metadata": {},
   "outputs": [
    {
     "data": {
      "text/plain": [
       "['documentation_url', 'message']"
      ]
     },
     "execution_count": 62,
     "metadata": {},
     "output_type": "execute_result"
    }
   ],
   "source": [
    "resposta = []\n",
    "for i in languages:\n",
    "    my_x = i\n",
    "    \n",
    "for a,b in my_x.items():\n",
    "    resposta.append(a)\n",
    "    \n",
    "myset = set(resposta)\n",
    "llista = list(myset)\n",
    "llista\n"
   ]
  },
  {
   "cell_type": "code",
   "execution_count": 59,
   "metadata": {},
   "outputs": [
    {
     "data": {
      "text/plain": [
       "['Jupyter Notebook', 'HTML', 'Python']"
      ]
     },
     "execution_count": 59,
     "metadata": {},
     "output_type": "execute_result"
    }
   ],
   "source": []
  },
  {
   "cell_type": "code",
   "execution_count": null,
   "metadata": {},
   "outputs": [],
   "source": []
  }
 ],
 "metadata": {
  "kernelspec": {
   "display_name": "Python 3 (ipykernel)",
   "language": "python",
   "name": "python3"
  },
  "language_info": {
   "codemirror_mode": {
    "name": "ipython",
    "version": 3
   },
   "file_extension": ".py",
   "mimetype": "text/x-python",
   "name": "python",
   "nbconvert_exporter": "python",
   "pygments_lexer": "ipython3",
   "version": "3.9.12"
  },
  "toc": {
   "base_numbering": 1,
   "nav_menu": {},
   "number_sections": true,
   "sideBar": true,
   "skip_h1_title": true,
   "title_cell": "Table of Contents",
   "title_sidebar": "Contents",
   "toc_cell": false,
   "toc_position": {},
   "toc_section_display": true,
   "toc_window_display": false
  }
 },
 "nbformat": 4,
 "nbformat_minor": 2
}
