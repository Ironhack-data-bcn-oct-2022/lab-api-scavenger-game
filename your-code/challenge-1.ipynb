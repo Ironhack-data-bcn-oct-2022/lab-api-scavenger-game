{
 "cells": [
  {
   "cell_type": "code",
   "execution_count": 1,
   "metadata": {},
   "outputs": [],
   "source": [
    "import json\n",
    "import requests"
   ]
  },
  {
   "cell_type": "markdown",
   "metadata": {},
   "source": [
    "Only if you're using your environmental variable eith the `.env` file, import/install the following modules. Otherwise it is not necessary:\n",
    "\n",
    "https://pypi.org/project/python-dotenv/"
   ]
  },
  {
   "cell_type": "code",
   "execution_count": 2,
   "metadata": {},
   "outputs": [],
   "source": [
    "import os\n",
    "from dotenv import load_dotenv"
   ]
  },
  {
   "cell_type": "code",
   "execution_count": null,
   "metadata": {},
   "outputs": [],
   "source": [
    "#pip install python-dotenv"
   ]
  },
  {
   "cell_type": "markdown",
   "metadata": {},
   "source": [
    "# Challenge 1: Fork Languages\n",
    "\n",
    "You will find out how many programming languages are used among all the forks created from the main lab repo of your bootcamp. Assuming the main lab repo is ironhack-datalabs/datamad1020-rev, you will:\n",
    "\n",
    "1. Obtain the full list of forks created from the main lab repo via Github API.\n",
    "\n",
    "2. Loop the JSON response to find out the language attribute of each fork. Use an array to store the language attributes of each fork.\n",
    "\n",
    "Hint: Each language should appear only once in your array.\n",
    "\n",
    "3. Print the language array. It should be something like:\n",
    "\n",
    "[\"Python\", \"Jupyter Notebook\", \"HTML\"]\n"
   ]
  },
  {
   "cell_type": "markdown",
   "metadata": {},
   "source": [
    "**HINT:**: Create a list with every **language_url** you find in every fork "
   ]
  },
  {
   "cell_type": "markdown",
   "metadata": {},
   "source": [
    "⚠️ **Remember to limit your output before submission**."
   ]
  },
  {
   "cell_type": "code",
   "execution_count": 70,
   "metadata": {},
   "outputs": [
    {
     "data": {
      "text/plain": [
       "True"
      ]
     },
     "execution_count": 70,
     "metadata": {},
     "output_type": "execute_result"
    }
   ],
   "source": [
    "load_dotenv()"
   ]
  },
  {
   "cell_type": "code",
   "execution_count": 84,
   "metadata": {},
   "outputs": [],
   "source": [
    "github = os.getenv(\"token\")\n",
    "parameters = {\"Authorization\" : f\"token {github}\"}\n",
    "owner = \"ironhack-datalabs\"\n",
    "repo = \"datamad1020-rev\"\n",
    "\n",
    "url = f\"https://api.github.com/repos/{owner}/{repo}/forks\""
   ]
  },
  {
   "cell_type": "code",
   "execution_count": 85,
   "metadata": {},
   "outputs": [
    {
     "data": {
      "text/plain": [
       "<Response [200]>"
      ]
     },
     "execution_count": 85,
     "metadata": {},
     "output_type": "execute_result"
    }
   ],
   "source": [
    "res = requests.get(url, params = parameters)\n",
    "res"
   ]
  },
  {
   "cell_type": "code",
   "execution_count": 86,
   "metadata": {},
   "outputs": [],
   "source": [
    "from pandas import json_normalize"
   ]
  },
  {
   "cell_type": "code",
   "execution_count": 87,
   "metadata": {},
   "outputs": [
    {
     "data": {
      "text/html": [
       "<div>\n",
       "<style scoped>\n",
       "    .dataframe tbody tr th:only-of-type {\n",
       "        vertical-align: middle;\n",
       "    }\n",
       "\n",
       "    .dataframe tbody tr th {\n",
       "        vertical-align: top;\n",
       "    }\n",
       "\n",
       "    .dataframe thead th {\n",
       "        text-align: right;\n",
       "    }\n",
       "</style>\n",
       "<table border=\"1\" class=\"dataframe\">\n",
       "  <thead>\n",
       "    <tr style=\"text-align: right;\">\n",
       "      <th></th>\n",
       "      <th>id</th>\n",
       "      <th>node_id</th>\n",
       "      <th>name</th>\n",
       "      <th>full_name</th>\n",
       "      <th>private</th>\n",
       "      <th>html_url</th>\n",
       "      <th>description</th>\n",
       "      <th>fork</th>\n",
       "      <th>url</th>\n",
       "      <th>forks_url</th>\n",
       "      <th>...</th>\n",
       "      <th>owner.repos_url</th>\n",
       "      <th>owner.events_url</th>\n",
       "      <th>owner.received_events_url</th>\n",
       "      <th>owner.type</th>\n",
       "      <th>owner.site_admin</th>\n",
       "      <th>license.key</th>\n",
       "      <th>license.name</th>\n",
       "      <th>license.spdx_id</th>\n",
       "      <th>license.url</th>\n",
       "      <th>license.node_id</th>\n",
       "    </tr>\n",
       "  </thead>\n",
       "  <tbody>\n",
       "    <tr>\n",
       "      <th>0</th>\n",
       "      <td>554816267</td>\n",
       "      <td>R_kgDOIRHTCw</td>\n",
       "      <td>datamad1020-rev</td>\n",
       "      <td>queraltic/datamad1020-rev</td>\n",
       "      <td>False</td>\n",
       "      <td>https://github.com/queraltic/datamad1020-rev</td>\n",
       "      <td>None</td>\n",
       "      <td>True</td>\n",
       "      <td>https://api.github.com/repos/queraltic/datamad...</td>\n",
       "      <td>https://api.github.com/repos/queraltic/datamad...</td>\n",
       "      <td>...</td>\n",
       "      <td>https://api.github.com/users/queraltic/repos</td>\n",
       "      <td>https://api.github.com/users/queraltic/events{...</td>\n",
       "      <td>https://api.github.com/users/queraltic/receive...</td>\n",
       "      <td>User</td>\n",
       "      <td>False</td>\n",
       "      <td>agpl-3.0</td>\n",
       "      <td>GNU Affero General Public License v3.0</td>\n",
       "      <td>AGPL-3.0</td>\n",
       "      <td>https://api.github.com/licenses/agpl-3.0</td>\n",
       "      <td>MDc6TGljZW5zZTE=</td>\n",
       "    </tr>\n",
       "    <tr>\n",
       "      <th>1</th>\n",
       "      <td>424649171</td>\n",
       "      <td>R_kgDOGU-h0w</td>\n",
       "      <td>datamad1020-rev</td>\n",
       "      <td>LuisSerranoCerame/datamad1020-rev</td>\n",
       "      <td>False</td>\n",
       "      <td>https://github.com/LuisSerranoCerame/datamad10...</td>\n",
       "      <td>None</td>\n",
       "      <td>True</td>\n",
       "      <td>https://api.github.com/repos/LuisSerranoCerame...</td>\n",
       "      <td>https://api.github.com/repos/LuisSerranoCerame...</td>\n",
       "      <td>...</td>\n",
       "      <td>https://api.github.com/users/LuisSerranoCerame...</td>\n",
       "      <td>https://api.github.com/users/LuisSerranoCerame...</td>\n",
       "      <td>https://api.github.com/users/LuisSerranoCerame...</td>\n",
       "      <td>User</td>\n",
       "      <td>False</td>\n",
       "      <td>agpl-3.0</td>\n",
       "      <td>GNU Affero General Public License v3.0</td>\n",
       "      <td>AGPL-3.0</td>\n",
       "      <td>https://api.github.com/licenses/agpl-3.0</td>\n",
       "      <td>MDc6TGljZW5zZTE=</td>\n",
       "    </tr>\n",
       "    <tr>\n",
       "      <th>2</th>\n",
       "      <td>424645536</td>\n",
       "      <td>R_kgDOGU-ToA</td>\n",
       "      <td>datamad1020-rev</td>\n",
       "      <td>silviarico/datamad1020-rev</td>\n",
       "      <td>False</td>\n",
       "      <td>https://github.com/silviarico/datamad1020-rev</td>\n",
       "      <td>None</td>\n",
       "      <td>True</td>\n",
       "      <td>https://api.github.com/repos/silviarico/datama...</td>\n",
       "      <td>https://api.github.com/repos/silviarico/datama...</td>\n",
       "      <td>...</td>\n",
       "      <td>https://api.github.com/users/silviarico/repos</td>\n",
       "      <td>https://api.github.com/users/silviarico/events...</td>\n",
       "      <td>https://api.github.com/users/silviarico/receiv...</td>\n",
       "      <td>User</td>\n",
       "      <td>False</td>\n",
       "      <td>agpl-3.0</td>\n",
       "      <td>GNU Affero General Public License v3.0</td>\n",
       "      <td>AGPL-3.0</td>\n",
       "      <td>https://api.github.com/licenses/agpl-3.0</td>\n",
       "      <td>MDc6TGljZW5zZTE=</td>\n",
       "    </tr>\n",
       "    <tr>\n",
       "      <th>3</th>\n",
       "      <td>364261883</td>\n",
       "      <td>MDEwOlJlcG9zaXRvcnkzNjQyNjE4ODM=</td>\n",
       "      <td>datamad1020-rev</td>\n",
       "      <td>BlancaRibas/datamad1020-rev</td>\n",
       "      <td>False</td>\n",
       "      <td>https://github.com/BlancaRibas/datamad1020-rev</td>\n",
       "      <td>None</td>\n",
       "      <td>True</td>\n",
       "      <td>https://api.github.com/repos/BlancaRibas/datam...</td>\n",
       "      <td>https://api.github.com/repos/BlancaRibas/datam...</td>\n",
       "      <td>...</td>\n",
       "      <td>https://api.github.com/users/BlancaRibas/repos</td>\n",
       "      <td>https://api.github.com/users/BlancaRibas/event...</td>\n",
       "      <td>https://api.github.com/users/BlancaRibas/recei...</td>\n",
       "      <td>User</td>\n",
       "      <td>False</td>\n",
       "      <td>agpl-3.0</td>\n",
       "      <td>GNU Affero General Public License v3.0</td>\n",
       "      <td>AGPL-3.0</td>\n",
       "      <td>https://api.github.com/licenses/agpl-3.0</td>\n",
       "      <td>MDc6TGljZW5zZTE=</td>\n",
       "    </tr>\n",
       "    <tr>\n",
       "      <th>4</th>\n",
       "      <td>351190494</td>\n",
       "      <td>MDEwOlJlcG9zaXRvcnkzNTExOTA0OTQ=</td>\n",
       "      <td>datamad1020-rev</td>\n",
       "      <td>acamposla/datamad1020-rev</td>\n",
       "      <td>False</td>\n",
       "      <td>https://github.com/acamposla/datamad1020-rev</td>\n",
       "      <td>None</td>\n",
       "      <td>True</td>\n",
       "      <td>https://api.github.com/repos/acamposla/datamad...</td>\n",
       "      <td>https://api.github.com/repos/acamposla/datamad...</td>\n",
       "      <td>...</td>\n",
       "      <td>https://api.github.com/users/acamposla/repos</td>\n",
       "      <td>https://api.github.com/users/acamposla/events{...</td>\n",
       "      <td>https://api.github.com/users/acamposla/receive...</td>\n",
       "      <td>User</td>\n",
       "      <td>False</td>\n",
       "      <td>agpl-3.0</td>\n",
       "      <td>GNU Affero General Public License v3.0</td>\n",
       "      <td>AGPL-3.0</td>\n",
       "      <td>https://api.github.com/licenses/agpl-3.0</td>\n",
       "      <td>MDc6TGljZW5zZTE=</td>\n",
       "    </tr>\n",
       "  </tbody>\n",
       "</table>\n",
       "<p>5 rows × 99 columns</p>\n",
       "</div>"
      ],
      "text/plain": [
       "          id                           node_id             name  \\\n",
       "0  554816267                      R_kgDOIRHTCw  datamad1020-rev   \n",
       "1  424649171                      R_kgDOGU-h0w  datamad1020-rev   \n",
       "2  424645536                      R_kgDOGU-ToA  datamad1020-rev   \n",
       "3  364261883  MDEwOlJlcG9zaXRvcnkzNjQyNjE4ODM=  datamad1020-rev   \n",
       "4  351190494  MDEwOlJlcG9zaXRvcnkzNTExOTA0OTQ=  datamad1020-rev   \n",
       "\n",
       "                           full_name  private  \\\n",
       "0          queraltic/datamad1020-rev    False   \n",
       "1  LuisSerranoCerame/datamad1020-rev    False   \n",
       "2         silviarico/datamad1020-rev    False   \n",
       "3        BlancaRibas/datamad1020-rev    False   \n",
       "4          acamposla/datamad1020-rev    False   \n",
       "\n",
       "                                            html_url description  fork  \\\n",
       "0       https://github.com/queraltic/datamad1020-rev        None  True   \n",
       "1  https://github.com/LuisSerranoCerame/datamad10...        None  True   \n",
       "2      https://github.com/silviarico/datamad1020-rev        None  True   \n",
       "3     https://github.com/BlancaRibas/datamad1020-rev        None  True   \n",
       "4       https://github.com/acamposla/datamad1020-rev        None  True   \n",
       "\n",
       "                                                 url  \\\n",
       "0  https://api.github.com/repos/queraltic/datamad...   \n",
       "1  https://api.github.com/repos/LuisSerranoCerame...   \n",
       "2  https://api.github.com/repos/silviarico/datama...   \n",
       "3  https://api.github.com/repos/BlancaRibas/datam...   \n",
       "4  https://api.github.com/repos/acamposla/datamad...   \n",
       "\n",
       "                                           forks_url  ...  \\\n",
       "0  https://api.github.com/repos/queraltic/datamad...  ...   \n",
       "1  https://api.github.com/repos/LuisSerranoCerame...  ...   \n",
       "2  https://api.github.com/repos/silviarico/datama...  ...   \n",
       "3  https://api.github.com/repos/BlancaRibas/datam...  ...   \n",
       "4  https://api.github.com/repos/acamposla/datamad...  ...   \n",
       "\n",
       "                                     owner.repos_url  \\\n",
       "0       https://api.github.com/users/queraltic/repos   \n",
       "1  https://api.github.com/users/LuisSerranoCerame...   \n",
       "2      https://api.github.com/users/silviarico/repos   \n",
       "3     https://api.github.com/users/BlancaRibas/repos   \n",
       "4       https://api.github.com/users/acamposla/repos   \n",
       "\n",
       "                                    owner.events_url  \\\n",
       "0  https://api.github.com/users/queraltic/events{...   \n",
       "1  https://api.github.com/users/LuisSerranoCerame...   \n",
       "2  https://api.github.com/users/silviarico/events...   \n",
       "3  https://api.github.com/users/BlancaRibas/event...   \n",
       "4  https://api.github.com/users/acamposla/events{...   \n",
       "\n",
       "                           owner.received_events_url owner.type  \\\n",
       "0  https://api.github.com/users/queraltic/receive...       User   \n",
       "1  https://api.github.com/users/LuisSerranoCerame...       User   \n",
       "2  https://api.github.com/users/silviarico/receiv...       User   \n",
       "3  https://api.github.com/users/BlancaRibas/recei...       User   \n",
       "4  https://api.github.com/users/acamposla/receive...       User   \n",
       "\n",
       "  owner.site_admin license.key                            license.name  \\\n",
       "0            False    agpl-3.0  GNU Affero General Public License v3.0   \n",
       "1            False    agpl-3.0  GNU Affero General Public License v3.0   \n",
       "2            False    agpl-3.0  GNU Affero General Public License v3.0   \n",
       "3            False    agpl-3.0  GNU Affero General Public License v3.0   \n",
       "4            False    agpl-3.0  GNU Affero General Public License v3.0   \n",
       "\n",
       "  license.spdx_id                               license.url   license.node_id  \n",
       "0        AGPL-3.0  https://api.github.com/licenses/agpl-3.0  MDc6TGljZW5zZTE=  \n",
       "1        AGPL-3.0  https://api.github.com/licenses/agpl-3.0  MDc6TGljZW5zZTE=  \n",
       "2        AGPL-3.0  https://api.github.com/licenses/agpl-3.0  MDc6TGljZW5zZTE=  \n",
       "3        AGPL-3.0  https://api.github.com/licenses/agpl-3.0  MDc6TGljZW5zZTE=  \n",
       "4        AGPL-3.0  https://api.github.com/licenses/agpl-3.0  MDc6TGljZW5zZTE=  \n",
       "\n",
       "[5 rows x 99 columns]"
      ]
     },
     "execution_count": 87,
     "metadata": {},
     "output_type": "execute_result"
    }
   ],
   "source": [
    "forks = json_normalize(res.json())\n",
    "forks.head()"
   ]
  },
  {
   "cell_type": "code",
   "execution_count": 88,
   "metadata": {},
   "outputs": [
    {
     "data": {
      "text/plain": [
       "26"
      ]
     },
     "execution_count": 88,
     "metadata": {},
     "output_type": "execute_result"
    }
   ],
   "source": [
    "len(forks)"
   ]
  },
  {
   "cell_type": "code",
   "execution_count": 89,
   "metadata": {},
   "outputs": [
    {
     "data": {
      "text/plain": [
       "Index(['id', 'node_id', 'name', 'full_name', 'private', 'html_url',\n",
       "       'description', 'fork', 'url', 'forks_url', 'keys_url',\n",
       "       'collaborators_url', 'teams_url', 'hooks_url', 'issue_events_url',\n",
       "       'events_url', 'assignees_url', 'branches_url', 'tags_url', 'blobs_url',\n",
       "       'git_tags_url', 'git_refs_url', 'trees_url', 'statuses_url',\n",
       "       'languages_url', 'stargazers_url', 'contributors_url',\n",
       "       'subscribers_url', 'subscription_url', 'commits_url', 'git_commits_url',\n",
       "       'comments_url', 'issue_comment_url', 'contents_url', 'compare_url',\n",
       "       'merges_url', 'archive_url', 'downloads_url', 'issues_url', 'pulls_url',\n",
       "       'milestones_url', 'notifications_url', 'labels_url', 'releases_url',\n",
       "       'deployments_url', 'created_at', 'updated_at', 'pushed_at', 'git_url',\n",
       "       'ssh_url', 'clone_url', 'svn_url', 'homepage', 'size',\n",
       "       'stargazers_count', 'watchers_count', 'language', 'has_issues',\n",
       "       'has_projects', 'has_downloads', 'has_wiki', 'has_pages', 'forks_count',\n",
       "       'mirror_url', 'archived', 'disabled', 'open_issues_count',\n",
       "       'allow_forking', 'is_template', 'web_commit_signoff_required', 'topics',\n",
       "       'visibility', 'forks', 'open_issues', 'watchers', 'default_branch',\n",
       "       'owner.login', 'owner.id', 'owner.node_id', 'owner.avatar_url',\n",
       "       'owner.gravatar_id', 'owner.url', 'owner.html_url',\n",
       "       'owner.followers_url', 'owner.following_url', 'owner.gists_url',\n",
       "       'owner.starred_url', 'owner.subscriptions_url',\n",
       "       'owner.organizations_url', 'owner.repos_url', 'owner.events_url',\n",
       "       'owner.received_events_url', 'owner.type', 'owner.site_admin',\n",
       "       'license.key', 'license.name', 'license.spdx_id', 'license.url',\n",
       "       'license.node_id'],\n",
       "      dtype='object')"
      ]
     },
     "execution_count": 89,
     "metadata": {},
     "output_type": "execute_result"
    }
   ],
   "source": [
    "forks.columns"
   ]
  },
  {
   "cell_type": "code",
   "execution_count": 91,
   "metadata": {},
   "outputs": [
    {
     "name": "stdout",
     "output_type": "stream",
     "text": [
      "[None, None, None, None, None, None, None, 'Jupyter Notebook', 'Jupyter Notebook', 'Jupyter Notebook', 'Jupyter Notebook', 'Jupyter Notebook', 'Jupyter Notebook', 'Jupyter Notebook', 'Jupyter Notebook', 'Jupyter Notebook', 'Jupyter Notebook', 'Jupyter Notebook', 'Jupyter Notebook', 'Jupyter Notebook', 'Jupyter Notebook', 'Jupyter Notebook', 'Jupyter Notebook', 'Jupyter Notebook', 'Jupyter Notebook', 'Jupyter Notebook']\n"
     ]
    }
   ],
   "source": [
    "list_language = []\n",
    "for element in forks['language']:\n",
    "    list_language.append(element)\n",
    "print(list_language)"
   ]
  },
  {
   "cell_type": "code",
   "execution_count": 93,
   "metadata": {},
   "outputs": [
    {
     "data": {
      "text/plain": [
       "{'Jupyter Notebook', None}"
      ]
     },
     "execution_count": 93,
     "metadata": {},
     "output_type": "execute_result"
    }
   ],
   "source": [
    "list_language_unique = set(list_language)\n",
    "list_language_unique"
   ]
  },
  {
   "cell_type": "markdown",
   "metadata": {},
   "source": [
    "# Fer's answer (slack)"
   ]
  },
  {
   "cell_type": "code",
   "execution_count": 111,
   "metadata": {},
   "outputs": [
    {
     "data": {
      "text/plain": [
       "['Jupyter Notebook', 'HTML', 'Python', 'message', 'documentation_url']"
      ]
     },
     "execution_count": 111,
     "metadata": {},
     "output_type": "execute_result"
    }
   ],
   "source": [
    "# Answer sent in Slack\n",
    "\n",
    "bootcamp_url = \"https://api.github.com/repos/ironhack-datalabs/datamad1020-rev/forks\"\n",
    "\n",
    "# Funtion will take my token and access github api\n",
    "def requestGithub(url):\n",
    "    api_key = os.getenv(\"token\")\n",
    "    parameters  = {\"Authorization\" : f\"token {api_key}\"}\n",
    "    response = requests.get (url = url, params = parameters).json()\n",
    "    \n",
    "    return response\n",
    "\n",
    "# for each element in the forks df in the language url column, append it to list of urls\n",
    "forks =  requestGithub(bootcamp_url)\n",
    "languages_urls = [fork[\"languages_url\"] for fork in forks]\n",
    "languages_urls\n",
    "\n",
    "# for every url in the list, do a request again again using the language url and append df in the language_list\n",
    "lang_list = list()\n",
    "for lang_url in languages_urls:\n",
    "    lang_list.append(requestGithub(lang_url))\n",
    "\n",
    "# access the languagues \n",
    "final_lang_list = list()\n",
    "for element in lang_list:\n",
    "    for key in element.keys():\n",
    "        if key not in final_lang_list:\n",
    "            final_lang_list.append(key)\n",
    "\n",
    "final_lang_list"
   ]
  }
 ],
 "metadata": {
  "kernelspec": {
   "display_name": "Python 3 (ipykernel)",
   "language": "python",
   "name": "python3"
  },
  "language_info": {
   "codemirror_mode": {
    "name": "ipython",
    "version": 3
   },
   "file_extension": ".py",
   "mimetype": "text/x-python",
   "name": "python",
   "nbconvert_exporter": "python",
   "pygments_lexer": "ipython3",
   "version": "3.9.13"
  },
  "toc": {
   "base_numbering": 1,
   "nav_menu": {},
   "number_sections": true,
   "sideBar": true,
   "skip_h1_title": true,
   "title_cell": "Table of Contents",
   "title_sidebar": "Contents",
   "toc_cell": false,
   "toc_position": {},
   "toc_section_display": true,
   "toc_window_display": false
  }
 },
 "nbformat": 4,
 "nbformat_minor": 2
}
