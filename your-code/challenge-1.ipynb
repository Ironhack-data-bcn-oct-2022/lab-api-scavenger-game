{
 "cells": [
  {
   "cell_type": "code",
   "execution_count": 32,
   "metadata": {},
   "outputs": [],
   "source": [
    "import json\n",
    "import requests\n",
    "import pandas as pd\n",
    "from pandas import json_normalize"
   ]
  },
  {
   "cell_type": "markdown",
   "metadata": {},
   "source": [
    "Only if you're using your environmental variable eith the `.env` file, import/install the following modules. Otherwise it is not necessary:\n",
    "\n",
    "https://pypi.org/project/python-dotenv/"
   ]
  },
  {
   "cell_type": "code",
   "execution_count": 2,
   "metadata": {},
   "outputs": [],
   "source": [
    "import os\n",
    "from dotenv import load_dotenv"
   ]
  },
  {
   "cell_type": "code",
   "execution_count": null,
   "metadata": {},
   "outputs": [],
   "source": [
    "#pip install python-dotenv"
   ]
  },
  {
   "cell_type": "code",
   "execution_count": 4,
   "metadata": {},
   "outputs": [],
   "source": [
    "!touch .env"
   ]
  },
  {
   "cell_type": "code",
   "execution_count": 6,
   "metadata": {},
   "outputs": [
    {
     "data": {
      "text/plain": [
       "True"
      ]
     },
     "execution_count": 6,
     "metadata": {},
     "output_type": "execute_result"
    }
   ],
   "source": [
    "load_dotenv()"
   ]
  },
  {
   "cell_type": "code",
   "execution_count": 16,
   "metadata": {},
   "outputs": [],
   "source": [
    "token = os.getenv(\"token\")"
   ]
  },
  {
   "cell_type": "markdown",
   "metadata": {},
   "source": [
    "# Challenge 1: Fork Languages\n",
    "\n",
    "You will find out how many programming languages are used among all the forks created from the main lab repo of your bootcamp. Assuming the main lab repo is ironhack-datalabs/datamad1020-rev, you will:\n",
    "\n",
    "1. Obtain the full list of forks created from the main lab repo via Github API.\n",
    "\n",
    "2. Loop the JSON response to find out the language attribute of each fork. Use an array to store the language attributes of each fork.\n",
    "\n",
    "Hint: Each language should appear only once in your array.\n",
    "\n",
    "3. Print the language array. It should be something like:\n",
    "\n",
    "[\"Python\", \"Jupyter Notebook\", \"HTML\"]\n"
   ]
  },
  {
   "cell_type": "markdown",
   "metadata": {},
   "source": [
    "**HINT:**: Create a list with every **language_url** you find in every fork "
   ]
  },
  {
   "cell_type": "markdown",
   "metadata": {},
   "source": [
    "⚠️ **Remember to limit your output before submission**."
   ]
  },
  {
   "cell_type": "code",
   "execution_count": 21,
   "metadata": {},
   "outputs": [],
   "source": [
    "repository_url =  \"https://api.github.com/repos/ironhack-datalabs/datamad1020-rev/forks\"\n",
    "repo = requests.get(repository_url)"
   ]
  },
  {
   "cell_type": "code",
   "execution_count": 93,
   "metadata": {},
   "outputs": [],
   "source": [
    "forks = json_normalize(repo.json())"
   ]
  },
  {
   "cell_type": "code",
   "execution_count": 90,
   "metadata": {},
   "outputs": [
    {
     "name": "stdout",
     "output_type": "stream",
     "text": [
      "https://api.github.com/repos/queraltic/datamad1020-rev/languages\n",
      "https://api.github.com/repos/LuisSerranoCerame/datamad1020-rev/languages\n",
      "https://api.github.com/repos/silviarico/datamad1020-rev/languages\n",
      "https://api.github.com/repos/BlancaRibas/datamad1020-rev/languages\n",
      "https://api.github.com/repos/acamposla/datamad1020-rev/languages\n",
      "https://api.github.com/repos/PaolaKarina/datamad1020-rev/languages\n",
      "https://api.github.com/repos/VictorRodriguezIronhack/datamad1020-rev/languages\n",
      "https://api.github.com/repos/sonia-quintanar/datamad1020-rev/languages\n",
      "https://api.github.com/repos/AnaMA96/datamad1020-rev/languages\n",
      "https://api.github.com/repos/datamad-instructor/datamad1020-rev/languages\n",
      "https://api.github.com/repos/rafadedubra/datamad1020-rev/languages\n",
      "https://api.github.com/repos/Nuria-Pe/datamad1020-rev/languages\n",
      "https://api.github.com/repos/SergioCaler0/datamad1020-rev/languages\n",
      "https://api.github.com/repos/LucianaLescano/datamad1020-rev/languages\n",
      "https://api.github.com/repos/Mario-Sainz/datamad1020-rev/languages\n",
      "https://api.github.com/repos/juanmarin00/datamad1020-rev/languages\n",
      "https://api.github.com/repos/JoseManuel-G/datamad1020-rev/languages\n",
      "https://api.github.com/repos/jesus-perez-366/datamad1020-rev/languages\n",
      "https://api.github.com/repos/sgonzalainen/datamad1020-rev/languages\n",
      "https://api.github.com/repos/Pptrv/datamad1020-rev/languages\n",
      "https://api.github.com/repos/Marxess/datamad1020-rev/languages\n",
      "https://api.github.com/repos/patri-carrasco/datamad1020-rev/languages\n",
      "https://api.github.com/repos/BlueJotas/datamad1020-rev/languages\n",
      "https://api.github.com/repos/jvazquezgalvezlp/datamad1020-rev/languages\n",
      "https://api.github.com/repos/leticia-sobrino/datamad1020-rev/languages\n",
      "https://api.github.com/repos/JaimeCalcedo/datamad1020-rev/languages\n"
     ]
    }
   ],
   "source": [
    "list_of_languages = []\n",
    "for fork in list(forks.languages_url.unique()):\n",
    "    print(fork)\n",
    "    response = requests.get(fork)\n",
    "    languages_in_fork = list(json_normalize(response.json()).columns)\n",
    "    for language in languages_in_fork:\n",
    "        if language not in list_of_languages:\n",
    "            list_of_languages.append(language)"
   ]
  },
  {
   "cell_type": "code",
   "execution_count": 92,
   "metadata": {},
   "outputs": [
    {
     "name": "stdout",
     "output_type": "stream",
     "text": [
      "['Jupyter Notebook', 'HTML', 'Python']\n"
     ]
    }
   ],
   "source": [
    "print(list_of_languages)"
   ]
  }
 ],
 "metadata": {
  "kernelspec": {
   "display_name": "Python 3 (ipykernel)",
   "language": "python",
   "name": "python3"
  },
  "language_info": {
   "codemirror_mode": {
    "name": "ipython",
    "version": 3
   },
   "file_extension": ".py",
   "mimetype": "text/x-python",
   "name": "python",
   "nbconvert_exporter": "python",
   "pygments_lexer": "ipython3",
   "version": "3.9.13"
  },
  "toc": {
   "base_numbering": 1,
   "nav_menu": {},
   "number_sections": true,
   "sideBar": true,
   "skip_h1_title": true,
   "title_cell": "Table of Contents",
   "title_sidebar": "Contents",
   "toc_cell": false,
   "toc_position": {},
   "toc_section_display": true,
   "toc_window_display": false
  }
 },
 "nbformat": 4,
 "nbformat_minor": 2
}
