{
 "cells": [
  {
   "cell_type": "markdown",
   "id": "threaded-asbestos",
   "metadata": {},
   "source": [
    "# Challenge 2: Count Commits\n",
    "\n",
    "Count how many commits were made in the past week.\n",
    "\n",
    "Obtain all the commits made in the past week via API, which is a JSON array that contains multiple commit objects.\n",
    "\n",
    "Count how many commit objects are contained in the array."
   ]
  },
  {
   "cell_type": "markdown",
   "id": "norwegian-praise",
   "metadata": {},
   "source": [
    "⚠️ **Remember to limit your output before submission**."
   ]
  },
  {
   "cell_type": "code",
   "execution_count": 14,
   "id": "f8033f24",
   "metadata": {},
   "outputs": [],
   "source": [
    "import json\n",
    "import requests\n",
    "import os\n",
    "from dotenv import load_dotenv\n",
    "load_dotenv()\n",
    "github = os.getenv(\"token\")\n",
    "import re"
   ]
  },
  {
   "cell_type": "code",
   "execution_count": 5,
   "id": "d4e8838e",
   "metadata": {},
   "outputs": [],
   "source": [
    "url='https://api.github.com/repos/ironhack-datalabs/datamad1020-rev/commits'\n",
    "res = rparameters={f'Authorization={github}'}equests.get('https://api.github.com/repos/ironhack-datalabs/datamad1020-rev/commits')"
   ]
  },
  {
   "cell_type": "code",
   "execution_count": 6,
   "id": "c0784136",
   "metadata": {},
   "outputs": [
    {
     "data": {
      "text/plain": [
       "<Response [200]>"
      ]
     },
     "execution_count": 6,
     "metadata": {},
     "output_type": "execute_result"
    }
   ],
   "source": [
    "res"
   ]
  },
  {
   "cell_type": "code",
   "execution_count": 7,
   "id": "5e0cd040",
   "metadata": {},
   "outputs": [],
   "source": [
    "parameters={f'Authorization={github}'}"
   ]
  },
  {
   "cell_type": "code",
   "execution_count": 8,
   "id": "developing-printing",
   "metadata": {},
   "outputs": [],
   "source": [
    "res.cont=res.json()"
   ]
  },
  {
   "cell_type": "code",
   "execution_count": 9,
   "id": "creative-stable",
   "metadata": {},
   "outputs": [],
   "source": [
    "from pandas import json_normalize"
   ]
  },
  {
   "cell_type": "code",
   "execution_count": 10,
   "id": "ongoing-taylor",
   "metadata": {},
   "outputs": [],
   "source": [
    "res_norm=json_normalize(res.cont)"
   ]
  },
  {
   "cell_type": "code",
   "execution_count": 12,
   "id": "9ff3616b",
   "metadata": {
    "collapsed": true
   },
   "outputs": [
    {
     "data": {
      "text/plain": [
       "Index(['sha', 'node_id', 'url', 'html_url', 'comments_url', 'parents',\n",
       "       'commit.author.name', 'commit.author.email', 'commit.author.date',\n",
       "       'commit.committer.name', 'commit.committer.email',\n",
       "       'commit.committer.date', 'commit.message', 'commit.tree.sha',\n",
       "       'commit.tree.url', 'commit.url', 'commit.comment_count',\n",
       "       'commit.verification.verified', 'commit.verification.reason',\n",
       "       'commit.verification.signature', 'commit.verification.payload',\n",
       "       'author.login', 'author.id', 'author.node_id', 'author.avatar_url',\n",
       "       'author.gravatar_id', 'author.url', 'author.html_url',\n",
       "       'author.followers_url', 'author.following_url', 'author.gists_url',\n",
       "       'author.starred_url', 'author.subscriptions_url',\n",
       "       'author.organizations_url', 'author.repos_url', 'author.events_url',\n",
       "       'author.received_events_url', 'author.type', 'author.site_admin',\n",
       "       'committer.login', 'committer.id', 'committer.node_id',\n",
       "       'committer.avatar_url', 'committer.gravatar_id', 'committer.url',\n",
       "       'committer.html_url', 'committer.followers_url',\n",
       "       'committer.following_url', 'committer.gists_url',\n",
       "       'committer.starred_url', 'committer.subscriptions_url',\n",
       "       'committer.organizations_url', 'committer.repos_url',\n",
       "       'committer.events_url', 'committer.received_events_url',\n",
       "       'committer.type', 'committer.site_admin'],\n",
       "      dtype='object')"
      ]
     },
     "execution_count": 12,
     "metadata": {},
     "output_type": "execute_result"
    }
   ],
   "source": [
    "res_norm.columns\n"
   ]
  },
  {
   "cell_type": "code",
   "execution_count": null,
   "id": "24fbcaae",
   "metadata": {},
   "outputs": [],
   "source": [
    "res_norm['commit.author.date1']=res_norm['commit.author.date']"
   ]
  },
  {
   "cell_type": "code",
   "execution_count": 13,
   "id": "88539464",
   "metadata": {},
   "outputs": [
    {
     "data": {
      "text/plain": [
       "0     2022-07-21T16:02:45Z\n",
       "1     2021-08-26T14:17:20Z\n",
       "2     2021-06-17T14:03:57Z\n",
       "3     2021-03-24T18:55:39Z\n",
       "4     2021-01-26T13:00:09Z\n",
       "5     2020-12-07T14:44:17Z\n",
       "6     2020-11-27T15:11:12Z\n",
       "7     2020-11-27T14:53:46Z\n",
       "8     2020-11-27T09:47:17Z\n",
       "9     2020-11-27T09:41:29Z\n",
       "10    2020-11-12T23:27:48Z\n",
       "11    2020-11-12T23:22:51Z\n",
       "12    2020-11-12T18:26:54Z\n",
       "13    2020-11-10T19:19:52Z\n",
       "14    2020-11-10T19:19:49Z\n",
       "15    2020-11-10T08:28:18Z\n",
       "16    2020-11-06T10:03:48Z\n",
       "17    2020-11-06T10:02:37Z\n",
       "18    2020-11-05T23:04:53Z\n",
       "19    2020-11-05T23:02:33Z\n",
       "20    2020-11-04T19:04:32Z\n",
       "21    2020-11-02T16:47:51Z\n",
       "22    2020-10-30T09:29:13Z\n",
       "23    2020-10-30T09:23:03Z\n",
       "24    2020-10-30T09:22:04Z\n",
       "25    2020-10-29T15:59:33Z\n",
       "26    2020-10-29T15:59:17Z\n",
       "27    2020-10-29T14:57:00Z\n",
       "28    2020-10-29T14:56:29Z\n",
       "29    2020-10-29T14:54:12Z\n",
       "Name: commit.author.date, dtype: object"
      ]
     },
     "execution_count": 13,
     "metadata": {},
     "output_type": "execute_result"
    }
   ],
   "source": [
    "res_norm['commit.author.date']"
   ]
  },
  {
   "cell_type": "code",
   "execution_count": 22,
   "id": "0f3b2d76",
   "metadata": {},
   "outputs": [],
   "source": [
    "res_norm['commit.author.date1']=res_norm['commit.author.date'].str.extract(r'(\\d{4}-\\d{2}-\\d{2})')\n",
    "    "
   ]
  },
  {
   "cell_type": "code",
   "execution_count": 25,
   "id": "feb789aa",
   "metadata": {},
   "outputs": [],
   "source": [
    " res_norm['commit.author.date']=res_norm['commit.author.date1']"
   ]
  },
  {
   "cell_type": "code",
   "execution_count": 28,
   "id": "39729135",
   "metadata": {
    "collapsed": true
   },
   "outputs": [
    {
     "data": {
      "text/plain": [
       "Index(['sha', 'node_id', 'url', 'html_url', 'comments_url', 'parents',\n",
       "       'commit.author.name', 'commit.author.email', 'commit.author.date',\n",
       "       'commit.committer.name', 'commit.committer.email',\n",
       "       'commit.committer.date', 'commit.message', 'commit.tree.sha',\n",
       "       'commit.tree.url', 'commit.url', 'commit.comment_count',\n",
       "       'commit.verification.verified', 'commit.verification.reason',\n",
       "       'commit.verification.signature', 'commit.verification.payload',\n",
       "       'author.login', 'author.id', 'author.node_id', 'author.avatar_url',\n",
       "       'author.gravatar_id', 'author.url', 'author.html_url',\n",
       "       'author.followers_url', 'author.following_url', 'author.gists_url',\n",
       "       'author.starred_url', 'author.subscriptions_url',\n",
       "       'author.organizations_url', 'author.repos_url', 'author.events_url',\n",
       "       'author.received_events_url', 'author.type', 'author.site_admin',\n",
       "       'committer.login', 'committer.id', 'committer.node_id',\n",
       "       'committer.avatar_url', 'committer.gravatar_id', 'committer.url',\n",
       "       'committer.html_url', 'committer.followers_url',\n",
       "       'committer.following_url', 'committer.gists_url',\n",
       "       'committer.starred_url', 'committer.subscriptions_url',\n",
       "       'committer.organizations_url', 'committer.repos_url',\n",
       "       'committer.events_url', 'committer.received_events_url',\n",
       "       'committer.type', 'committer.site_admin', 'commit.author.date1'],\n",
       "      dtype='object')"
      ]
     },
     "execution_count": 28,
     "metadata": {},
     "output_type": "execute_result"
    }
   ],
   "source": [
    " res_norm.columns"
   ]
  },
  {
   "cell_type": "code",
   "execution_count": 30,
   "id": "808cd06a",
   "metadata": {},
   "outputs": [],
   "source": [
    "res_norm.drop(('commit.author.date1'), axis=1, inplace=True)"
   ]
  },
  {
   "cell_type": "code",
   "execution_count": 31,
   "id": "0325951e",
   "metadata": {
    "collapsed": true
   },
   "outputs": [
    {
     "data": {
      "text/plain": [
       "0     2022-07-21\n",
       "1     2021-08-26\n",
       "2     2021-06-17\n",
       "3     2021-03-24\n",
       "4     2021-01-26\n",
       "5     2020-12-07\n",
       "6     2020-11-27\n",
       "7     2020-11-27\n",
       "8     2020-11-27\n",
       "9     2020-11-27\n",
       "10    2020-11-12\n",
       "11    2020-11-12\n",
       "12    2020-11-12\n",
       "13    2020-11-10\n",
       "14    2020-11-10\n",
       "15    2020-11-10\n",
       "16    2020-11-06\n",
       "17    2020-11-06\n",
       "18    2020-11-05\n",
       "19    2020-11-05\n",
       "20    2020-11-04\n",
       "21    2020-11-02\n",
       "22    2020-10-30\n",
       "23    2020-10-30\n",
       "24    2020-10-30\n",
       "25    2020-10-29\n",
       "26    2020-10-29\n",
       "27    2020-10-29\n",
       "28    2020-10-29\n",
       "29    2020-10-29\n",
       "Name: commit.author.date, dtype: object"
      ]
     },
     "execution_count": 31,
     "metadata": {},
     "output_type": "execute_result"
    }
   ],
   "source": [
    "res_norm['commit.author.date']"
   ]
  },
  {
   "cell_type": "code",
   "execution_count": 60,
   "id": "ebeeb8d1",
   "metadata": {},
   "outputs": [
    {
     "name": "stdout",
     "output_type": "stream",
     "text": [
      "[]\n"
     ]
    }
   ],
   "source": [
    "past_week=[]\n",
    "for i in res_norm['commit.author.date']:\n",
    "    if i>'2022-10-10':\n",
    "        past_week.append(i)\n",
    "print(past_week)\n",
    "        "
   ]
  },
  {
   "cell_type": "code",
   "execution_count": null,
   "id": "59ebe323",
   "metadata": {},
   "outputs": [],
   "source": []
  }
 ],
 "metadata": {
  "kernelspec": {
   "display_name": "Python 3 (ipykernel)",
   "language": "python",
   "name": "python3"
  },
  "language_info": {
   "codemirror_mode": {
    "name": "ipython",
    "version": 3
   },
   "file_extension": ".py",
   "mimetype": "text/x-python",
   "name": "python",
   "nbconvert_exporter": "python",
   "pygments_lexer": "ipython3",
   "version": "3.9.12"
  },
  "toc": {
   "base_numbering": 1,
   "nav_menu": {},
   "number_sections": true,
   "sideBar": true,
   "skip_h1_title": true,
   "title_cell": "Table of Contents",
   "title_sidebar": "Contents",
   "toc_cell": false,
   "toc_position": {
    "height": "calc(100% - 180px)",
    "left": "10px",
    "top": "150px",
    "width": "288px"
   },
   "toc_section_display": true,
   "toc_window_display": true
  }
 },
 "nbformat": 4,
 "nbformat_minor": 5
}
