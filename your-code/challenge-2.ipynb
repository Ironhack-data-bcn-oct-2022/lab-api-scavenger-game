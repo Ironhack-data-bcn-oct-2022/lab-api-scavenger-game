{
 "cells": [
  {
   "cell_type": "markdown",
   "id": "threaded-asbestos",
   "metadata": {},
   "source": [
    "# Challenge 2: Count Commits\n",
    "\n",
    "Count how many commits were made in the past week.\n",
    "\n",
    "Obtain all the commits made in the past week via API, which is a JSON array that contains multiple commit objects.\n",
    "\n",
    "Count how many commit objects are contained in the array."
   ]
  },
  {
   "cell_type": "markdown",
   "id": "norwegian-praise",
   "metadata": {},
   "source": [
    "⚠️ **Remember to limit your output before submission**."
   ]
  },
  {
   "cell_type": "code",
   "execution_count": 2,
   "id": "developing-printing",
   "metadata": {},
   "outputs": [],
   "source": [
    "import pandas as pd\n",
    "import requests\n",
    "import json\n",
    "import os\n",
    "from pandas import json_normalize\n",
    "from dotenv import load_dotenv"
   ]
  },
  {
   "cell_type": "code",
   "execution_count": 3,
   "id": "f21e5fd7",
   "metadata": {},
   "outputs": [
    {
     "data": {
      "text/plain": [
       "True"
      ]
     },
     "execution_count": 3,
     "metadata": {},
     "output_type": "execute_result"
    }
   ],
   "source": [
    "load_dotenv()"
   ]
  },
  {
   "cell_type": "code",
   "execution_count": 23,
   "id": "ongoing-taylor",
   "metadata": {},
   "outputs": [],
   "source": [
    "token = os.getenv(\"gh_token\")"
   ]
  },
  {
   "cell_type": "code",
   "execution_count": 54,
   "id": "e090c0c4",
   "metadata": {},
   "outputs": [],
   "source": [
    "parameters = {\"Authorization\" : f\"token {token}\"}\n",
    "owner = \"ironhack-datalabs/datamad1020-rev\"\n",
    "url = f\"https://api.github.com/repos/{owner}/commits\""
   ]
  },
  {
   "cell_type": "code",
   "execution_count": 55,
   "id": "5929dbc2",
   "metadata": {},
   "outputs": [
    {
     "data": {
      "text/plain": [
       "<Response [200]>"
      ]
     },
     "execution_count": 55,
     "metadata": {},
     "output_type": "execute_result"
    }
   ],
   "source": [
    "res = requests.get(url, params = parameters)\n",
    "res"
   ]
  },
  {
   "cell_type": "code",
   "execution_count": 56,
   "id": "5138089b",
   "metadata": {},
   "outputs": [
    {
     "data": {
      "text/html": [
       "<div>\n",
       "<style scoped>\n",
       "    .dataframe tbody tr th:only-of-type {\n",
       "        vertical-align: middle;\n",
       "    }\n",
       "\n",
       "    .dataframe tbody tr th {\n",
       "        vertical-align: top;\n",
       "    }\n",
       "\n",
       "    .dataframe thead th {\n",
       "        text-align: right;\n",
       "    }\n",
       "</style>\n",
       "<table border=\"1\" class=\"dataframe\">\n",
       "  <thead>\n",
       "    <tr style=\"text-align: right;\">\n",
       "      <th></th>\n",
       "      <th>sha</th>\n",
       "      <th>node_id</th>\n",
       "      <th>url</th>\n",
       "      <th>html_url</th>\n",
       "      <th>comments_url</th>\n",
       "      <th>parents</th>\n",
       "      <th>commit.author.name</th>\n",
       "      <th>commit.author.email</th>\n",
       "      <th>commit.author.date</th>\n",
       "      <th>commit.committer.name</th>\n",
       "      <th>...</th>\n",
       "      <th>committer.following_url</th>\n",
       "      <th>committer.gists_url</th>\n",
       "      <th>committer.starred_url</th>\n",
       "      <th>committer.subscriptions_url</th>\n",
       "      <th>committer.organizations_url</th>\n",
       "      <th>committer.repos_url</th>\n",
       "      <th>committer.events_url</th>\n",
       "      <th>committer.received_events_url</th>\n",
       "      <th>committer.type</th>\n",
       "      <th>committer.site_admin</th>\n",
       "    </tr>\n",
       "  </thead>\n",
       "  <tbody>\n",
       "    <tr>\n",
       "      <th>0</th>\n",
       "      <td>50581734c624a4d60851f59ed028d32b43f09997</td>\n",
       "      <td>C_kwDOEiJ229oAKDUwNTgxNzM0YzYyNGE0ZDYwODUxZjU5...</td>\n",
       "      <td>https://api.github.com/repos/ironhack-datalabs...</td>\n",
       "      <td>https://github.com/ironhack-datalabs/datamad10...</td>\n",
       "      <td>https://api.github.com/repos/ironhack-datalabs...</td>\n",
       "      <td>[{'sha': 'f61a35d1016bfc11bb53e8d844db395fc6c4...</td>\n",
       "      <td>Fernando Costa</td>\n",
       "      <td>54676992+breogann@users.noreply.github.com</td>\n",
       "      <td>2022-07-21T16:02:45Z</td>\n",
       "      <td>GitHub</td>\n",
       "      <td>...</td>\n",
       "      <td>https://api.github.com/users/web-flow/followin...</td>\n",
       "      <td>https://api.github.com/users/web-flow/gists{/g...</td>\n",
       "      <td>https://api.github.com/users/web-flow/starred{...</td>\n",
       "      <td>https://api.github.com/users/web-flow/subscrip...</td>\n",
       "      <td>https://api.github.com/users/web-flow/orgs</td>\n",
       "      <td>https://api.github.com/users/web-flow/repos</td>\n",
       "      <td>https://api.github.com/users/web-flow/events{/...</td>\n",
       "      <td>https://api.github.com/users/web-flow/received...</td>\n",
       "      <td>User</td>\n",
       "      <td>False</td>\n",
       "    </tr>\n",
       "    <tr>\n",
       "      <th>1</th>\n",
       "      <td>f61a35d1016bfc11bb53e8d844db395fc6c4933d</td>\n",
       "      <td>MDY6Q29tbWl0MzA0MjQ4NTM5OmY2MWEzNWQxMDE2YmZjMT...</td>\n",
       "      <td>https://api.github.com/repos/ironhack-datalabs...</td>\n",
       "      <td>https://github.com/ironhack-datalabs/datamad10...</td>\n",
       "      <td>https://api.github.com/repos/ironhack-datalabs...</td>\n",
       "      <td>[{'sha': '79efcf150e34bc5eb982fde74dc5446bafc3...</td>\n",
       "      <td>ras</td>\n",
       "      <td>agalvezcorell@gmail.com</td>\n",
       "      <td>2021-08-26T14:17:20Z</td>\n",
       "      <td>ras</td>\n",
       "      <td>...</td>\n",
       "      <td>https://api.github.com/users/olmocorell/follow...</td>\n",
       "      <td>https://api.github.com/users/olmocorell/gists{...</td>\n",
       "      <td>https://api.github.com/users/olmocorell/starre...</td>\n",
       "      <td>https://api.github.com/users/olmocorell/subscr...</td>\n",
       "      <td>https://api.github.com/users/olmocorell/orgs</td>\n",
       "      <td>https://api.github.com/users/olmocorell/repos</td>\n",
       "      <td>https://api.github.com/users/olmocorell/events...</td>\n",
       "      <td>https://api.github.com/users/olmocorell/receiv...</td>\n",
       "      <td>User</td>\n",
       "      <td>False</td>\n",
       "    </tr>\n",
       "    <tr>\n",
       "      <th>2</th>\n",
       "      <td>79efcf150e34bc5eb982fde74dc5446bafc39bad</td>\n",
       "      <td>MDY6Q29tbWl0MzA0MjQ4NTM5Ojc5ZWZjZjE1MGUzNGJjNW...</td>\n",
       "      <td>https://api.github.com/repos/ironhack-datalabs...</td>\n",
       "      <td>https://github.com/ironhack-datalabs/datamad10...</td>\n",
       "      <td>https://api.github.com/repos/ironhack-datalabs...</td>\n",
       "      <td>[{'sha': '04bc51c0a75f3e6604fe7ac41da8b3c69919...</td>\n",
       "      <td>agalvezcorell</td>\n",
       "      <td>agalvezcorell@gmail.com</td>\n",
       "      <td>2021-06-17T14:03:57Z</td>\n",
       "      <td>agalvezcorell</td>\n",
       "      <td>...</td>\n",
       "      <td>https://api.github.com/users/olmocorell/follow...</td>\n",
       "      <td>https://api.github.com/users/olmocorell/gists{...</td>\n",
       "      <td>https://api.github.com/users/olmocorell/starre...</td>\n",
       "      <td>https://api.github.com/users/olmocorell/subscr...</td>\n",
       "      <td>https://api.github.com/users/olmocorell/orgs</td>\n",
       "      <td>https://api.github.com/users/olmocorell/repos</td>\n",
       "      <td>https://api.github.com/users/olmocorell/events...</td>\n",
       "      <td>https://api.github.com/users/olmocorell/receiv...</td>\n",
       "      <td>User</td>\n",
       "      <td>False</td>\n",
       "    </tr>\n",
       "    <tr>\n",
       "      <th>3</th>\n",
       "      <td>04bc51c0a75f3e6604fe7ac41da8b3c69919f7c3</td>\n",
       "      <td>MDY6Q29tbWl0MzA0MjQ4NTM5OjA0YmM1MWMwYTc1ZjNlNj...</td>\n",
       "      <td>https://api.github.com/repos/ironhack-datalabs...</td>\n",
       "      <td>https://github.com/ironhack-datalabs/datamad10...</td>\n",
       "      <td>https://api.github.com/repos/ironhack-datalabs...</td>\n",
       "      <td>[{'sha': '62ccb107c540872cb332b10768b890040fb5...</td>\n",
       "      <td>Ras Soyungalgo</td>\n",
       "      <td>agalvezcorell@gmail.com</td>\n",
       "      <td>2021-03-24T18:55:39Z</td>\n",
       "      <td>Ras Soyungalgo</td>\n",
       "      <td>...</td>\n",
       "      <td>https://api.github.com/users/olmocorell/follow...</td>\n",
       "      <td>https://api.github.com/users/olmocorell/gists{...</td>\n",
       "      <td>https://api.github.com/users/olmocorell/starre...</td>\n",
       "      <td>https://api.github.com/users/olmocorell/subscr...</td>\n",
       "      <td>https://api.github.com/users/olmocorell/orgs</td>\n",
       "      <td>https://api.github.com/users/olmocorell/repos</td>\n",
       "      <td>https://api.github.com/users/olmocorell/events...</td>\n",
       "      <td>https://api.github.com/users/olmocorell/receiv...</td>\n",
       "      <td>User</td>\n",
       "      <td>False</td>\n",
       "    </tr>\n",
       "    <tr>\n",
       "      <th>4</th>\n",
       "      <td>62ccb107c540872cb332b10768b890040fb50c1f</td>\n",
       "      <td>MDY6Q29tbWl0MzA0MjQ4NTM5OjYyY2NiMTA3YzU0MDg3Mm...</td>\n",
       "      <td>https://api.github.com/repos/ironhack-datalabs...</td>\n",
       "      <td>https://github.com/ironhack-datalabs/datamad10...</td>\n",
       "      <td>https://api.github.com/repos/ironhack-datalabs...</td>\n",
       "      <td>[{'sha': 'f3a48ac39f43cb8130695180360f5644eeef...</td>\n",
       "      <td>Ras Soyungalgo</td>\n",
       "      <td>agalvezcorell@gmail.com</td>\n",
       "      <td>2021-01-26T13:00:09Z</td>\n",
       "      <td>Ras Soyungalgo</td>\n",
       "      <td>...</td>\n",
       "      <td>https://api.github.com/users/olmocorell/follow...</td>\n",
       "      <td>https://api.github.com/users/olmocorell/gists{...</td>\n",
       "      <td>https://api.github.com/users/olmocorell/starre...</td>\n",
       "      <td>https://api.github.com/users/olmocorell/subscr...</td>\n",
       "      <td>https://api.github.com/users/olmocorell/orgs</td>\n",
       "      <td>https://api.github.com/users/olmocorell/repos</td>\n",
       "      <td>https://api.github.com/users/olmocorell/events...</td>\n",
       "      <td>https://api.github.com/users/olmocorell/receiv...</td>\n",
       "      <td>User</td>\n",
       "      <td>False</td>\n",
       "    </tr>\n",
       "  </tbody>\n",
       "</table>\n",
       "<p>5 rows × 57 columns</p>\n",
       "</div>"
      ],
      "text/plain": [
       "                                        sha  \\\n",
       "0  50581734c624a4d60851f59ed028d32b43f09997   \n",
       "1  f61a35d1016bfc11bb53e8d844db395fc6c4933d   \n",
       "2  79efcf150e34bc5eb982fde74dc5446bafc39bad   \n",
       "3  04bc51c0a75f3e6604fe7ac41da8b3c69919f7c3   \n",
       "4  62ccb107c540872cb332b10768b890040fb50c1f   \n",
       "\n",
       "                                             node_id  \\\n",
       "0  C_kwDOEiJ229oAKDUwNTgxNzM0YzYyNGE0ZDYwODUxZjU5...   \n",
       "1  MDY6Q29tbWl0MzA0MjQ4NTM5OmY2MWEzNWQxMDE2YmZjMT...   \n",
       "2  MDY6Q29tbWl0MzA0MjQ4NTM5Ojc5ZWZjZjE1MGUzNGJjNW...   \n",
       "3  MDY6Q29tbWl0MzA0MjQ4NTM5OjA0YmM1MWMwYTc1ZjNlNj...   \n",
       "4  MDY6Q29tbWl0MzA0MjQ4NTM5OjYyY2NiMTA3YzU0MDg3Mm...   \n",
       "\n",
       "                                                 url  \\\n",
       "0  https://api.github.com/repos/ironhack-datalabs...   \n",
       "1  https://api.github.com/repos/ironhack-datalabs...   \n",
       "2  https://api.github.com/repos/ironhack-datalabs...   \n",
       "3  https://api.github.com/repos/ironhack-datalabs...   \n",
       "4  https://api.github.com/repos/ironhack-datalabs...   \n",
       "\n",
       "                                            html_url  \\\n",
       "0  https://github.com/ironhack-datalabs/datamad10...   \n",
       "1  https://github.com/ironhack-datalabs/datamad10...   \n",
       "2  https://github.com/ironhack-datalabs/datamad10...   \n",
       "3  https://github.com/ironhack-datalabs/datamad10...   \n",
       "4  https://github.com/ironhack-datalabs/datamad10...   \n",
       "\n",
       "                                        comments_url  \\\n",
       "0  https://api.github.com/repos/ironhack-datalabs...   \n",
       "1  https://api.github.com/repos/ironhack-datalabs...   \n",
       "2  https://api.github.com/repos/ironhack-datalabs...   \n",
       "3  https://api.github.com/repos/ironhack-datalabs...   \n",
       "4  https://api.github.com/repos/ironhack-datalabs...   \n",
       "\n",
       "                                             parents commit.author.name  \\\n",
       "0  [{'sha': 'f61a35d1016bfc11bb53e8d844db395fc6c4...     Fernando Costa   \n",
       "1  [{'sha': '79efcf150e34bc5eb982fde74dc5446bafc3...                ras   \n",
       "2  [{'sha': '04bc51c0a75f3e6604fe7ac41da8b3c69919...      agalvezcorell   \n",
       "3  [{'sha': '62ccb107c540872cb332b10768b890040fb5...     Ras Soyungalgo   \n",
       "4  [{'sha': 'f3a48ac39f43cb8130695180360f5644eeef...     Ras Soyungalgo   \n",
       "\n",
       "                          commit.author.email    commit.author.date  \\\n",
       "0  54676992+breogann@users.noreply.github.com  2022-07-21T16:02:45Z   \n",
       "1                     agalvezcorell@gmail.com  2021-08-26T14:17:20Z   \n",
       "2                     agalvezcorell@gmail.com  2021-06-17T14:03:57Z   \n",
       "3                     agalvezcorell@gmail.com  2021-03-24T18:55:39Z   \n",
       "4                     agalvezcorell@gmail.com  2021-01-26T13:00:09Z   \n",
       "\n",
       "  commit.committer.name  ...  \\\n",
       "0                GitHub  ...   \n",
       "1                   ras  ...   \n",
       "2         agalvezcorell  ...   \n",
       "3        Ras Soyungalgo  ...   \n",
       "4        Ras Soyungalgo  ...   \n",
       "\n",
       "                             committer.following_url  \\\n",
       "0  https://api.github.com/users/web-flow/followin...   \n",
       "1  https://api.github.com/users/olmocorell/follow...   \n",
       "2  https://api.github.com/users/olmocorell/follow...   \n",
       "3  https://api.github.com/users/olmocorell/follow...   \n",
       "4  https://api.github.com/users/olmocorell/follow...   \n",
       "\n",
       "                                 committer.gists_url  \\\n",
       "0  https://api.github.com/users/web-flow/gists{/g...   \n",
       "1  https://api.github.com/users/olmocorell/gists{...   \n",
       "2  https://api.github.com/users/olmocorell/gists{...   \n",
       "3  https://api.github.com/users/olmocorell/gists{...   \n",
       "4  https://api.github.com/users/olmocorell/gists{...   \n",
       "\n",
       "                               committer.starred_url  \\\n",
       "0  https://api.github.com/users/web-flow/starred{...   \n",
       "1  https://api.github.com/users/olmocorell/starre...   \n",
       "2  https://api.github.com/users/olmocorell/starre...   \n",
       "3  https://api.github.com/users/olmocorell/starre...   \n",
       "4  https://api.github.com/users/olmocorell/starre...   \n",
       "\n",
       "                         committer.subscriptions_url  \\\n",
       "0  https://api.github.com/users/web-flow/subscrip...   \n",
       "1  https://api.github.com/users/olmocorell/subscr...   \n",
       "2  https://api.github.com/users/olmocorell/subscr...   \n",
       "3  https://api.github.com/users/olmocorell/subscr...   \n",
       "4  https://api.github.com/users/olmocorell/subscr...   \n",
       "\n",
       "                    committer.organizations_url  \\\n",
       "0    https://api.github.com/users/web-flow/orgs   \n",
       "1  https://api.github.com/users/olmocorell/orgs   \n",
       "2  https://api.github.com/users/olmocorell/orgs   \n",
       "3  https://api.github.com/users/olmocorell/orgs   \n",
       "4  https://api.github.com/users/olmocorell/orgs   \n",
       "\n",
       "                             committer.repos_url  \\\n",
       "0    https://api.github.com/users/web-flow/repos   \n",
       "1  https://api.github.com/users/olmocorell/repos   \n",
       "2  https://api.github.com/users/olmocorell/repos   \n",
       "3  https://api.github.com/users/olmocorell/repos   \n",
       "4  https://api.github.com/users/olmocorell/repos   \n",
       "\n",
       "                                committer.events_url  \\\n",
       "0  https://api.github.com/users/web-flow/events{/...   \n",
       "1  https://api.github.com/users/olmocorell/events...   \n",
       "2  https://api.github.com/users/olmocorell/events...   \n",
       "3  https://api.github.com/users/olmocorell/events...   \n",
       "4  https://api.github.com/users/olmocorell/events...   \n",
       "\n",
       "                       committer.received_events_url committer.type  \\\n",
       "0  https://api.github.com/users/web-flow/received...           User   \n",
       "1  https://api.github.com/users/olmocorell/receiv...           User   \n",
       "2  https://api.github.com/users/olmocorell/receiv...           User   \n",
       "3  https://api.github.com/users/olmocorell/receiv...           User   \n",
       "4  https://api.github.com/users/olmocorell/receiv...           User   \n",
       "\n",
       "  committer.site_admin  \n",
       "0                False  \n",
       "1                False  \n",
       "2                False  \n",
       "3                False  \n",
       "4                False  \n",
       "\n",
       "[5 rows x 57 columns]"
      ]
     },
     "execution_count": 56,
     "metadata": {},
     "output_type": "execute_result"
    }
   ],
   "source": [
    "commits = json_normalize(res.json())\n",
    "commits.head()"
   ]
  },
  {
   "cell_type": "code",
   "execution_count": 57,
   "id": "b2e6d529",
   "metadata": {},
   "outputs": [
    {
     "data": {
      "text/plain": [
       "Index(['sha', 'node_id', 'url', 'html_url', 'comments_url', 'parents',\n",
       "       'commit.author.name', 'commit.author.email', 'commit.author.date',\n",
       "       'commit.committer.name', 'commit.committer.email',\n",
       "       'commit.committer.date', 'commit.message', 'commit.tree.sha',\n",
       "       'commit.tree.url', 'commit.url', 'commit.comment_count',\n",
       "       'commit.verification.verified', 'commit.verification.reason',\n",
       "       'commit.verification.signature', 'commit.verification.payload',\n",
       "       'author.login', 'author.id', 'author.node_id', 'author.avatar_url',\n",
       "       'author.gravatar_id', 'author.url', 'author.html_url',\n",
       "       'author.followers_url', 'author.following_url', 'author.gists_url',\n",
       "       'author.starred_url', 'author.subscriptions_url',\n",
       "       'author.organizations_url', 'author.repos_url', 'author.events_url',\n",
       "       'author.received_events_url', 'author.type', 'author.site_admin',\n",
       "       'committer.login', 'committer.id', 'committer.node_id',\n",
       "       'committer.avatar_url', 'committer.gravatar_id', 'committer.url',\n",
       "       'committer.html_url', 'committer.followers_url',\n",
       "       'committer.following_url', 'committer.gists_url',\n",
       "       'committer.starred_url', 'committer.subscriptions_url',\n",
       "       'committer.organizations_url', 'committer.repos_url',\n",
       "       'committer.events_url', 'committer.received_events_url',\n",
       "       'committer.type', 'committer.site_admin'],\n",
       "      dtype='object')"
      ]
     },
     "execution_count": 57,
     "metadata": {},
     "output_type": "execute_result"
    }
   ],
   "source": [
    "commits.columns"
   ]
  },
  {
   "cell_type": "code",
   "execution_count": 60,
   "id": "56349388",
   "metadata": {},
   "outputs": [
    {
     "data": {
      "text/plain": [
       "0     2022-07-21T16:02:45Z\n",
       "1     2021-08-26T14:17:20Z\n",
       "2     2021-06-17T14:03:57Z\n",
       "3     2021-03-24T18:55:39Z\n",
       "4     2021-01-26T13:00:09Z\n",
       "5     2020-12-07T14:44:17Z\n",
       "6     2020-11-27T15:11:12Z\n",
       "7     2020-11-27T14:53:46Z\n",
       "8     2020-11-27T09:47:17Z\n",
       "9     2020-11-27T09:41:29Z\n",
       "10    2020-11-12T23:27:48Z\n",
       "11    2020-11-12T23:22:51Z\n",
       "12    2020-11-12T18:26:54Z\n",
       "13    2020-11-10T19:19:52Z\n",
       "14    2020-11-10T19:19:49Z\n",
       "15    2020-11-10T08:28:18Z\n",
       "16    2020-11-06T10:03:48Z\n",
       "17    2020-11-06T10:02:37Z\n",
       "18    2020-11-05T23:04:53Z\n",
       "19    2020-11-05T23:02:33Z\n",
       "20    2020-11-04T19:04:32Z\n",
       "21    2020-11-02T16:47:51Z\n",
       "22    2020-10-30T09:29:13Z\n",
       "23    2020-10-30T09:23:03Z\n",
       "24    2020-10-30T09:22:04Z\n",
       "25    2020-10-29T15:59:33Z\n",
       "26    2020-10-29T15:59:17Z\n",
       "27    2020-10-29T14:57:00Z\n",
       "28    2020-10-29T14:56:29Z\n",
       "29    2020-10-29T14:54:12Z\n",
       "Name: commit.author.date, dtype: object"
      ]
     },
     "execution_count": 60,
     "metadata": {},
     "output_type": "execute_result"
    }
   ],
   "source": [
    "commits['commit.author.date']"
   ]
  },
  {
   "cell_type": "code",
   "execution_count": 61,
   "id": "086e9a74",
   "metadata": {},
   "outputs": [
    {
     "data": {
      "text/plain": [
       "30"
      ]
     },
     "execution_count": 61,
     "metadata": {},
     "output_type": "execute_result"
    }
   ],
   "source": [
    "len(commits['commit.author.date'])"
   ]
  },
  {
   "cell_type": "code",
   "execution_count": 62,
   "id": "852bd76b",
   "metadata": {},
   "outputs": [
    {
     "data": {
      "text/plain": [
       "0"
      ]
     },
     "execution_count": 62,
     "metadata": {},
     "output_type": "execute_result"
    }
   ],
   "source": [
    "#since last week\n",
    "\n",
    "parameters = {\"Authorization\" : f\"token {token}\",\n",
    "             \"since\" : \"2022-10-10T00:00:00Z\"}\n",
    "\n",
    "url = f\"https://api.github.com/repos/{owner}/commits\"\n",
    "\n",
    "res = requests.get(url, params = parameters)\n",
    "\n",
    "commits = json_normalize(res.json())\n",
    "commits.head()\n",
    "\n",
    "len(commits)"
   ]
  },
  {
   "cell_type": "code",
   "execution_count": null,
   "id": "69172e3f",
   "metadata": {},
   "outputs": [],
   "source": []
  }
 ],
 "metadata": {
  "kernelspec": {
   "display_name": "Python 3 (ipykernel)",
   "language": "python",
   "name": "python3"
  },
  "language_info": {
   "codemirror_mode": {
    "name": "ipython",
    "version": 3
   },
   "file_extension": ".py",
   "mimetype": "text/x-python",
   "name": "python",
   "nbconvert_exporter": "python",
   "pygments_lexer": "ipython3",
   "version": "3.9.13"
  },
  "toc": {
   "base_numbering": 1,
   "nav_menu": {},
   "number_sections": true,
   "sideBar": true,
   "skip_h1_title": true,
   "title_cell": "Table of Contents",
   "title_sidebar": "Contents",
   "toc_cell": false,
   "toc_position": {
    "height": "calc(100% - 180px)",
    "left": "10px",
    "top": "150px",
    "width": "288px"
   },
   "toc_section_display": true,
   "toc_window_display": true
  }
 },
 "nbformat": 4,
 "nbformat_minor": 5
}
