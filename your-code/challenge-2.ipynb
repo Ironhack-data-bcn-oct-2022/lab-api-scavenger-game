{
 "cells": [
  {
   "cell_type": "markdown",
   "id": "threaded-asbestos",
   "metadata": {},
   "source": [
    "# Challenge 2: Count Commits\n",
    "\n",
    "Count how many commits were made in the past week.\n",
    "\n",
    "Obtain all the commits made in the past week via API, which is a JSON array that contains multiple commit objects.\n",
    "\n",
    "Count how many commit objects are contained in the array."
   ]
  },
  {
   "cell_type": "markdown",
   "id": "norwegian-praise",
   "metadata": {},
   "source": [
    "⚠️ **Remember to limit your output before submission**."
   ]
  },
  {
   "cell_type": "code",
   "execution_count": 1,
   "id": "developing-printing",
   "metadata": {},
   "outputs": [],
   "source": [
    "#Your code"
   ]
  },
  {
   "cell_type": "code",
   "execution_count": 2,
   "id": "creative-stable",
   "metadata": {},
   "outputs": [],
   "source": [
    "# Example: print(variable[:10]) "
   ]
  },
  {
   "cell_type": "code",
   "execution_count": null,
   "id": "ongoing-taylor",
   "metadata": {},
   "outputs": [],
   "source": [
    "​\n",
    "owner = \"ironhack-datalabs/datamad1020-rev\"\n",
    "url = f\"https://api.github.com/repos/{owner}/forks\"\n",
    "response_1 = requests.get(url)\n",
    "#parameters = {\"Authorization: \" :f \"token {github}\"}\n",
    "res = response_1.json()\n",
    "​\n",
    "​\n",
    "fork_names = []\n",
    "for i in range(len(res)):\n",
    "    fork_names.append (res[i][\"owner\"][\"login\"])\n",
    "fork_names\n",
    "​\n",
    "fork_list = []\n",
    "for i in range(len(res)):\n",
    "    fork_list.append (res[i][\"languages_url\"])\n",
    "    \n",
    "fork_list\n",
    "​\n",
    "lang=[]\n",
    "for item in fork_names:\n",
    "    urlnew = f\"https://api.github.com/repos/{item}/datamad1020-rev/languages\"\n",
    "    responsefin = requests.get(urlnew)\n",
    "    repofi = responsefin.json()\n",
    "    lang.append(repofi)\n",
    "lang\n",
    "​\n",
    "​\n",
    "resposta = []\n",
    "for item in lang:\n",
    "    my_x = item\n",
    "    for a,b in my_x.items():\n",
    "        resposta.append(a)\n",
    "​\n",
    "myset = set(resposta)\n",
    "llista = list(myset)\n",
    "llista\n",
    "Collapse\n",
    "\n"
   ]
  }
 ],
 "metadata": {
  "kernelspec": {
   "display_name": "Python 3 (ipykernel)",
   "language": "python",
   "name": "python3"
  },
  "language_info": {
   "codemirror_mode": {
    "name": "ipython",
    "version": 3
   },
   "file_extension": ".py",
   "mimetype": "text/x-python",
   "name": "python",
   "nbconvert_exporter": "python",
   "pygments_lexer": "ipython3",
   "version": "3.9.12"
  },
  "toc": {
   "base_numbering": 1,
   "nav_menu": {},
   "number_sections": true,
   "sideBar": true,
   "skip_h1_title": true,
   "title_cell": "Table of Contents",
   "title_sidebar": "Contents",
   "toc_cell": false,
   "toc_position": {
    "height": "calc(100% - 180px)",
    "left": "10px",
    "top": "150px",
    "width": "288px"
   },
   "toc_section_display": true,
   "toc_window_display": true
  }
 },
 "nbformat": 4,
 "nbformat_minor": 5
}
