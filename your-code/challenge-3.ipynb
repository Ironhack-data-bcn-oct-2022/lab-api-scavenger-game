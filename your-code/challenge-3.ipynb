{
 "cells": [
  {
   "cell_type": "markdown",
   "id": "defensive-clock",
   "metadata": {},
   "source": [
    "# Challenge 3: Hidden Cold Joke\n",
    "\n",
    "Using Python, call Github API to find out the cold joke contained in the 24 secret files in the following repo:\n",
    "\n",
    "https://github.com/ironhack-datalabs/scavenger\n",
    "\n",
    "The filenames of the secret files contain .scavengerhunt and they are scattered in different directories of this repo. The secret files are named from .0001.scavengerhunt to .0024.scavengerhunt. They are scattered randomly throughout this repo. You need to search for these files by calling the Github API, not searching the local files on your computer.\n",
    "\n",
    "\n",
    "After you find out the secrete files:\n",
    "\n",
    "Sort the filenames ascendingly.\n",
    "\n",
    "Read the content of each secret files into an array of strings.\n",
    "\n",
    "Concatenate the strings in the array separating each two with a whitespace.\n",
    "\n",
    "Print out the joke."
   ]
  },
  {
   "cell_type": "markdown",
   "id": "universal-length",
   "metadata": {},
   "source": [
    "⚠️ **Remember to limit your output before submission**."
   ]
  },
  {
   "cell_type": "code",
   "execution_count": 25,
   "id": "e32aee94",
   "metadata": {},
   "outputs": [],
   "source": [
    "import json\n",
    "import requests\n",
    "import os\n",
    "from dotenv import load_dotenv\n",
    "from pandas import json_normalize\n",
    "import pandas as pd\n"
   ]
  },
  {
   "cell_type": "code",
   "execution_count": 20,
   "id": "toxic-trading",
   "metadata": {},
   "outputs": [],
   "source": [
    "owner = \"ironhack-datalabs\"\n",
    "repo = \"scavenger\"\n",
    "url = f\"https://api.github.com/repos/{owner}/{repo}/contents\"\n",
    "response_1 = requests.get(url)\n",
    "res = response_1.json()\n"
   ]
  },
  {
   "cell_type": "code",
   "execution_count": 39,
   "id": "774bd9d5",
   "metadata": {},
   "outputs": [
    {
     "name": "stdout",
     "output_type": "stream",
     "text": [
      "['.gitignore', '15024', '15534', '17020', '30351', '40303', '44639', '45525', '47222', '47830', '49418', '50896', '55417', '55685', '60224', '64880', '66032', '68848', '70751', '70985', '88596', '89046', '89338', '91701', '97881', '98750']\n"
     ]
    }
   ],
   "source": [
    "list_folders = []\n",
    "\n",
    "for item in res:\n",
    "    list_folders.append(item[\"path\"])\n",
    "print(list_folders)"
   ]
  },
  {
   "cell_type": "code",
   "execution_count": 43,
   "id": "static-stopping",
   "metadata": {},
   "outputs": [
    {
     "name": "stdout",
     "output_type": "stream",
     "text": [
      "['https://api.github.com/repos/ironhack-datalabs/scavenger/contents/.gitignore?ref=master', 'https://api.github.com/repos/ironhack-datalabs/scavenger/contents/15024?ref=master', 'https://api.github.com/repos/ironhack-datalabs/scavenger/contents/15534?ref=master', 'https://api.github.com/repos/ironhack-datalabs/scavenger/contents/17020?ref=master', 'https://api.github.com/repos/ironhack-datalabs/scavenger/contents/30351?ref=master', 'https://api.github.com/repos/ironhack-datalabs/scavenger/contents/40303?ref=master', 'https://api.github.com/repos/ironhack-datalabs/scavenger/contents/44639?ref=master', 'https://api.github.com/repos/ironhack-datalabs/scavenger/contents/45525?ref=master', 'https://api.github.com/repos/ironhack-datalabs/scavenger/contents/47222?ref=master', 'https://api.github.com/repos/ironhack-datalabs/scavenger/contents/47830?ref=master', 'https://api.github.com/repos/ironhack-datalabs/scavenger/contents/49418?ref=master', 'https://api.github.com/repos/ironhack-datalabs/scavenger/contents/50896?ref=master', 'https://api.github.com/repos/ironhack-datalabs/scavenger/contents/55417?ref=master', 'https://api.github.com/repos/ironhack-datalabs/scavenger/contents/55685?ref=master', 'https://api.github.com/repos/ironhack-datalabs/scavenger/contents/60224?ref=master', 'https://api.github.com/repos/ironhack-datalabs/scavenger/contents/64880?ref=master', 'https://api.github.com/repos/ironhack-datalabs/scavenger/contents/66032?ref=master', 'https://api.github.com/repos/ironhack-datalabs/scavenger/contents/68848?ref=master', 'https://api.github.com/repos/ironhack-datalabs/scavenger/contents/70751?ref=master', 'https://api.github.com/repos/ironhack-datalabs/scavenger/contents/70985?ref=master', 'https://api.github.com/repos/ironhack-datalabs/scavenger/contents/88596?ref=master', 'https://api.github.com/repos/ironhack-datalabs/scavenger/contents/89046?ref=master', 'https://api.github.com/repos/ironhack-datalabs/scavenger/contents/89338?ref=master', 'https://api.github.com/repos/ironhack-datalabs/scavenger/contents/91701?ref=master', 'https://api.github.com/repos/ironhack-datalabs/scavenger/contents/97881?ref=master', 'https://api.github.com/repos/ironhack-datalabs/scavenger/contents/98750?ref=master']\n"
     ]
    }
   ],
   "source": [
    "list_urls = []\n",
    "\n",
    "for item in res:\n",
    "    list_urls.append(item[\"url\"])\n",
    "print(list_urls)"
   ]
  },
  {
   "cell_type": "code",
   "execution_count": 64,
   "id": "4914506b",
   "metadata": {},
   "outputs": [
    {
     "ename": "AttributeError",
     "evalue": "'str' object has no attribute 'items'",
     "output_type": "error",
     "traceback": [
      "\u001b[0;31m---------------------------------------------------------------------------\u001b[0m",
      "\u001b[0;31mAttributeError\u001b[0m                            Traceback (most recent call last)",
      "Input \u001b[0;32mIn [64]\u001b[0m, in \u001b[0;36m<cell line: 2>\u001b[0;34m()\u001b[0m\n\u001b[1;32m      3\u001b[0m folder\u001b[38;5;241m=\u001b[39m requests\u001b[38;5;241m.\u001b[39mget(i)\u001b[38;5;241m.\u001b[39mjson()\n\u001b[1;32m      4\u001b[0m \u001b[38;5;28;01mfor\u001b[39;00m dictionary \u001b[38;5;129;01min\u001b[39;00m folder:\n\u001b[0;32m----> 5\u001b[0m     \u001b[38;5;28;01mfor\u001b[39;00m key,value \u001b[38;5;129;01min\u001b[39;00m \u001b[43mdictionary\u001b[49m\u001b[38;5;241;43m.\u001b[39;49m\u001b[43mitems\u001b[49m():\n\u001b[1;32m      6\u001b[0m         \u001b[38;5;28;01mif\u001b[39;00m \u001b[38;5;124m\"\u001b[39m\u001b[38;5;124m.scavenger\u001b[39m\u001b[38;5;124m\"\u001b[39m \u001b[38;5;129;01min\u001b[39;00m value:\n\u001b[1;32m      7\u001b[0m             secretitems\u001b[38;5;241m.\u001b[39mappend(value)\n",
      "\u001b[0;31mAttributeError\u001b[0m: 'str' object has no attribute 'items'"
     ]
    }
   ],
   "source": [
    "secretitems=[]\n",
    "for i in list_urls:\n",
    "    folder= requests.get(i).json()\n",
    "    for dictionary in folder:\n",
    "        for key,value in dictionary.items():\n",
    "            if \".scavenger\" in value:\n",
    "                secretitems.append(value)\n",
    "\n",
    "secretitems           "
   ]
  },
  {
   "cell_type": "code",
   "execution_count": 53,
   "id": "33ff7a9f",
   "metadata": {},
   "outputs": [
    {
     "ename": "AttributeError",
     "evalue": "'bytes' object has no attribute 'type'",
     "output_type": "error",
     "traceback": [
      "\u001b[0;31m---------------------------------------------------------------------------\u001b[0m",
      "\u001b[0;31mAttributeError\u001b[0m                            Traceback (most recent call last)",
      "Input \u001b[0;32mIn [53]\u001b[0m, in \u001b[0;36m<cell line: 2>\u001b[0;34m()\u001b[0m\n\u001b[1;32m      3\u001b[0m folder\u001b[38;5;241m=\u001b[39m requests\u001b[38;5;241m.\u001b[39mget(i)\n\u001b[1;32m      4\u001b[0m \u001b[38;5;28;01mfor\u001b[39;00m item \u001b[38;5;129;01min\u001b[39;00m folder:\n\u001b[0;32m----> 5\u001b[0m     \u001b[38;5;28mprint\u001b[39m(\u001b[43mitem\u001b[49m\u001b[38;5;241;43m.\u001b[39;49m\u001b[43mtype\u001b[49m())\n",
      "\u001b[0;31mAttributeError\u001b[0m: 'bytes' object has no attribute 'type'"
     ]
    }
   ],
   "source": [
    "secretitems=[]\n",
    "for i in list_urls:\n",
    "    folder= requests.get(i)\n",
    "    for item in folder:\n",
    "        print(item.type())"
   ]
  },
  {
   "cell_type": "code",
   "execution_count": null,
   "id": "d216a1b9",
   "metadata": {},
   "outputs": [],
   "source": []
  }
 ],
 "metadata": {
  "kernelspec": {
   "display_name": "Python 3 (ipykernel)",
   "language": "python",
   "name": "python3"
  },
  "language_info": {
   "codemirror_mode": {
    "name": "ipython",
    "version": 3
   },
   "file_extension": ".py",
   "mimetype": "text/x-python",
   "name": "python",
   "nbconvert_exporter": "python",
   "pygments_lexer": "ipython3",
   "version": "3.9.13"
  },
  "toc": {
   "base_numbering": 1,
   "nav_menu": {},
   "number_sections": true,
   "sideBar": true,
   "skip_h1_title": true,
   "title_cell": "Table of Contents",
   "title_sidebar": "Contents",
   "toc_cell": false,
   "toc_position": {},
   "toc_section_display": true,
   "toc_window_display": true
  }
 },
 "nbformat": 4,
 "nbformat_minor": 5
}
