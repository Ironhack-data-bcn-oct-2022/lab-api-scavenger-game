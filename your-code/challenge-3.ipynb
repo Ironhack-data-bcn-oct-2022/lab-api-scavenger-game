{
 "cells": [
  {
   "cell_type": "markdown",
   "id": "defensive-clock",
   "metadata": {},
   "source": [
    "# Challenge 3: Hidden Cold Joke\n",
    "\n",
    "Using Python, call Github API to find out the cold joke contained in the 24 secret files in the following repo:\n",
    "\n",
    "https://github.com/ironhack-datalabs/scavenger\n",
    "\n",
    "The filenames of the secret files contain .scavengerhunt and they are scattered in different directories of this repo. The secret files are named from .0001.scavengerhunt to .0024.scavengerhunt. They are scattered randomly throughout this repo. You need to search for these files by calling the Github API, not searching the local files on your computer.\n",
    "\n",
    "\n",
    "After you find out the secrete files:\n",
    "\n",
    "Sort the filenames ascendingly.\n",
    "\n",
    "Read the content of each secret files into an array of strings.\n",
    "\n",
    "Concatenate the strings in the array separating each two with a whitespace.\n",
    "\n",
    "Print out the joke."
   ]
  },
  {
   "cell_type": "markdown",
   "id": "universal-length",
   "metadata": {},
   "source": [
    "⚠️ **Remember to limit your output before submission**."
   ]
  },
  {
   "cell_type": "code",
   "execution_count": 1,
   "id": "toxic-trading",
   "metadata": {},
   "outputs": [],
   "source": [
    "import json\n",
    "import requests\n",
    "import os\n",
    "from dotenv import load_dotenv\n",
    "import pandas as pd\n",
    "from pandas import json_normalize\n",
    "import time "
   ]
  },
  {
   "cell_type": "code",
   "execution_count": 2,
   "id": "static-stopping",
   "metadata": {},
   "outputs": [],
   "source": [
    "df1 = json_normalize(forks)\n",
    "df1.columns"
   ]
  },
  {
   "cell_type": "code",
   "execution_count": null,
   "id": "1b83f932",
   "metadata": {},
   "outputs": [],
   "source": [
    "load_dotenv()\n",
    "github = os.getenv(\"token\")\n",
    "github\n"
   ]
  },
  {
   "cell_type": "code",
   "execution_count": null,
   "id": "a1f39283",
   "metadata": {},
   "outputs": [],
   "source": [
    "repo = \"repos/ironhack-datalabs/scavenger/commits\"\n",
    "url_1 = f\"https://api.github.com/{repo}\"\n",
    "url_1"
   ]
  },
  {
   "cell_type": "code",
   "execution_count": null,
   "id": "c4175040",
   "metadata": {},
   "outputs": [],
   "source": [
    "parameters = {\"Authorization\": f\"token {github}\"}\n",
    "requests.get(url_1, parameters )"
   ]
  },
  {
   "cell_type": "code",
   "execution_count": null,
   "id": "df10829d",
   "metadata": {},
   "outputs": [],
   "source": [
    "github = os.getenv(\"token\")\n",
    "parameters = {\"Authorization\": f\"token {github}\"}"
   ]
  },
  {
   "cell_type": "code",
   "execution_count": null,
   "id": "19808b08",
   "metadata": {},
   "outputs": [],
   "source": [
    "forks = requests.get(url_1).json()\n",
    "\n",
    "df1 = json_normalize(forks)\n",
    "df1.columns"
   ]
  },
  {
   "cell_type": "markdown",
   "id": "95635939",
   "metadata": {},
   "source": [
    "url= \"https://api.github.com/repos/ironhack-datalabs/scavenger/contents\"\n",
    "github = os.getenv(\"token\")\n",
    "parameters = {\"Authorization\": f\"token {github}\"}\n",
    "requests.get(url, parameters )\n",
    "scavenger = requests.get(url).json()\n",
    "\n",
    "scavdf= pd.DataFrame.from_dict(scavenger)\n",
    "scavdf"
   ]
  }
 ],
 "metadata": {
  "kernelspec": {
   "display_name": "Python 3",
   "language": "python",
   "name": "python3"
  },
  "language_info": {
   "codemirror_mode": {
    "name": "ipython",
    "version": 3
   },
   "file_extension": ".py",
   "mimetype": "text/x-python",
   "name": "python",
   "nbconvert_exporter": "python",
   "pygments_lexer": "ipython3",
   "version": "3.8.5"
  },
  "toc": {
   "base_numbering": 1,
   "nav_menu": {},
   "number_sections": true,
   "sideBar": true,
   "skip_h1_title": true,
   "title_cell": "Table of Contents",
   "title_sidebar": "Contents",
   "toc_cell": false,
   "toc_position": {},
   "toc_section_display": true,
   "toc_window_display": true
  }
 },
 "nbformat": 4,
 "nbformat_minor": 5
}
