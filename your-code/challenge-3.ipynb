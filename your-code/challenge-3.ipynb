{
 "cells": [
  {
   "cell_type": "markdown",
   "id": "defensive-clock",
   "metadata": {},
   "source": [
    "# Challenge 3: Hidden Cold Joke\n",
    "\n",
    "Using Python, call Github API to find out the cold joke contained in the 24 secret files in the following repo:\n",
    "\n",
    "https://github.com/ironhack-datalabs/scavenger\n",
    "\n",
    "The filenames of the secret files contain .scavengerhunt and they are scattered in different directories of this repo. The secret files are named from .0001.scavengerhunt to .0024.scavengerhunt. They are scattered randomly throughout this repo. You need to search for these files by calling the Github API, not searching the local files on your computer.\n",
    "\n",
    "\n",
    "After you find out the secrete files:\n",
    "\n",
    "Sort the filenames ascendingly.\n",
    "\n",
    "Read the content of each secret files into an array of strings.\n",
    "\n",
    "Concatenate the strings in the array separating each two with a whitespace.\n",
    "\n",
    "Print out the joke."
   ]
  },
  {
   "cell_type": "markdown",
   "id": "universal-length",
   "metadata": {},
   "source": [
    "⚠️ **Remember to limit your output before submission**."
   ]
  },
  {
   "cell_type": "code",
   "execution_count": 50,
   "id": "4179ce4a",
   "metadata": {},
   "outputs": [],
   "source": [
    "import json\n",
    "import requests\n",
    "import pandas as pd\n",
    "from pandas import json_normalize\n",
    "import os\n",
    "import base64"
   ]
  },
  {
   "cell_type": "code",
   "execution_count": 17,
   "id": "ee439c91",
   "metadata": {},
   "outputs": [],
   "source": [
    "url = \"https://api.github.com/repos/ironhack-datalabs/scavenger/contents\"\n",
    "response = requests.get(url)"
   ]
  },
  {
   "cell_type": "code",
   "execution_count": 30,
   "id": "toxic-trading",
   "metadata": {},
   "outputs": [],
   "source": [
    "# Your code\n",
    "df = json_normalize(response.json())\n",
    "dir_list = list(df.name)[1:]"
   ]
  },
  {
   "cell_type": "code",
   "execution_count": 67,
   "id": "1b1dda9a",
   "metadata": {},
   "outputs": [
    {
     "name": "stdout",
     "output_type": "stream",
     "text": [
      "https://api.github.com/repos/ironhack-datalabs/scavenger/contents/15024\n",
      "https://api.github.com/repos/ironhack-datalabs/scavenger/contents/15534\n",
      "https://api.github.com/repos/ironhack-datalabs/scavenger/contents/17020\n",
      "https://api.github.com/repos/ironhack-datalabs/scavenger/contents/30351\n",
      "https://api.github.com/repos/ironhack-datalabs/scavenger/contents/40303\n",
      "https://api.github.com/repos/ironhack-datalabs/scavenger/contents/44639\n",
      "https://api.github.com/repos/ironhack-datalabs/scavenger/contents/45525\n",
      "https://api.github.com/repos/ironhack-datalabs/scavenger/contents/47222\n",
      "https://api.github.com/repos/ironhack-datalabs/scavenger/contents/47830\n",
      "https://api.github.com/repos/ironhack-datalabs/scavenger/contents/49418\n",
      "https://api.github.com/repos/ironhack-datalabs/scavenger/contents/50896\n",
      "https://api.github.com/repos/ironhack-datalabs/scavenger/contents/55417\n",
      "https://api.github.com/repos/ironhack-datalabs/scavenger/contents/55685\n",
      "https://api.github.com/repos/ironhack-datalabs/scavenger/contents/60224\n",
      "https://api.github.com/repos/ironhack-datalabs/scavenger/contents/64880\n",
      "https://api.github.com/repos/ironhack-datalabs/scavenger/contents/66032\n",
      "https://api.github.com/repos/ironhack-datalabs/scavenger/contents/68848\n",
      "https://api.github.com/repos/ironhack-datalabs/scavenger/contents/70751\n",
      "https://api.github.com/repos/ironhack-datalabs/scavenger/contents/70985\n",
      "https://api.github.com/repos/ironhack-datalabs/scavenger/contents/88596\n",
      "https://api.github.com/repos/ironhack-datalabs/scavenger/contents/89046\n",
      "https://api.github.com/repos/ironhack-datalabs/scavenger/contents/89338\n",
      "https://api.github.com/repos/ironhack-datalabs/scavenger/contents/91701\n",
      "https://api.github.com/repos/ironhack-datalabs/scavenger/contents/97881\n",
      "https://api.github.com/repos/ironhack-datalabs/scavenger/contents/98750\n",
      "[['15024', '.0006.scavengerhunt'], ['15534', '.0008.scavengerhunt'], ['17020', '.0007.scavengerhunt'], ['30351', '.0021.scavengerhunt'], ['40303', '.0022.scavengerhunt'], ['44639', '.0005.scavengerhunt'], ['45525', '.0018.scavengerhunt'], ['47222', '.0016.scavengerhunt'], ['47830', '.0010.scavengerhunt'], ['49418', '.0014.scavengerhunt'], ['50896', '.0011.scavengerhunt'], ['55417', '.0023.scavengerhunt'], ['55685', '.0020.scavengerhunt'], ['60224', '.0003.scavengerhunt'], ['64880', '3'], ['66032', '28'], ['68848', '.0004.scavengerhunt'], ['70751', '.0019.scavengerhunt'], ['70985', '.0017.scavengerhunt'], ['88596', '.0002.scavengerhunt'], ['89046', '64'], ['89338', '.0013.scavengerhunt'], ['91701', '.0015.scavengerhunt'], ['97881', '.0009.scavengerhunt'], ['98750', '.0001.scavengerhunt']]\n"
     ]
    }
   ],
   "source": [
    "# LAST - DO NOT EXECUTE\n",
    "list_of_files = []\n",
    "for directory in dir_list:\n",
    "    url_dir = \"https://api.github.com/repos/ironhack-datalabs/scavenger/contents/\"+directory\n",
    "    response_dir = requests.get(url_dir)\n",
    "    df_dir = json_normalize(response_dir.json())\n",
    "    df_dir.sort_values(by='name', ascending=True, inplace=True)\n",
    "    file = df_dir['name'].iloc[0]\n",
    "    if file not in list_of_files:\n",
    "        list_of_files.append([directory, file])"
   ]
  },
  {
   "cell_type": "code",
   "execution_count": 75,
   "id": "ebfaa443",
   "metadata": {},
   "outputs": [
    {
     "name": "stdout",
     "output_type": "stream",
     "text": [
      "[['98750', '.0001.scavengerhunt'], ['88596', '.0002.scavengerhunt'], ['60224', '.0003.scavengerhunt'], ['68848', '.0004.scavengerhunt'], ['44639', '.0005.scavengerhunt'], ['15024', '.0006.scavengerhunt'], ['17020', '.0007.scavengerhunt'], ['15534', '.0008.scavengerhunt'], ['97881', '.0009.scavengerhunt'], ['47830', '.0010.scavengerhunt'], ['50896', '.0011.scavengerhunt'], ['89338', '.0013.scavengerhunt'], ['49418', '.0014.scavengerhunt'], ['91701', '.0015.scavengerhunt'], ['47222', '.0016.scavengerhunt'], ['70985', '.0017.scavengerhunt'], ['45525', '.0018.scavengerhunt'], ['70751', '.0019.scavengerhunt'], ['55685', '.0020.scavengerhunt']]\n"
     ]
    }
   ],
   "source": [
    "list_of_files = sorted(list_of_files, key=lambda nested: nested[1]) #sort by name"
   ]
  },
  {
   "cell_type": "code",
   "execution_count": 69,
   "id": "6ce4018e",
   "metadata": {},
   "outputs": [
    {
     "name": "stdout",
     "output_type": "stream",
     "text": [
      "https://api.github.com/repos/ironhack-datalabs/scavenger/contents/98750/.0001.scavengerhunt\n",
      "https://api.github.com/repos/ironhack-datalabs/scavenger/contents/88596/.0002.scavengerhunt\n",
      "https://api.github.com/repos/ironhack-datalabs/scavenger/contents/60224/.0003.scavengerhunt\n",
      "https://api.github.com/repos/ironhack-datalabs/scavenger/contents/68848/.0004.scavengerhunt\n",
      "https://api.github.com/repos/ironhack-datalabs/scavenger/contents/44639/.0005.scavengerhunt\n",
      "https://api.github.com/repos/ironhack-datalabs/scavenger/contents/15024/.0006.scavengerhunt\n",
      "https://api.github.com/repos/ironhack-datalabs/scavenger/contents/17020/.0007.scavengerhunt\n",
      "https://api.github.com/repos/ironhack-datalabs/scavenger/contents/15534/.0008.scavengerhunt\n",
      "https://api.github.com/repos/ironhack-datalabs/scavenger/contents/97881/.0009.scavengerhunt\n",
      "https://api.github.com/repos/ironhack-datalabs/scavenger/contents/47830/.0010.scavengerhunt\n",
      "https://api.github.com/repos/ironhack-datalabs/scavenger/contents/50896/.0011.scavengerhunt\n",
      "https://api.github.com/repos/ironhack-datalabs/scavenger/contents/89338/.0013.scavengerhunt\n",
      "https://api.github.com/repos/ironhack-datalabs/scavenger/contents/49418/.0014.scavengerhunt\n",
      "https://api.github.com/repos/ironhack-datalabs/scavenger/contents/91701/.0015.scavengerhunt\n",
      "https://api.github.com/repos/ironhack-datalabs/scavenger/contents/47222/.0016.scavengerhunt\n",
      "https://api.github.com/repos/ironhack-datalabs/scavenger/contents/70985/.0017.scavengerhunt\n",
      "https://api.github.com/repos/ironhack-datalabs/scavenger/contents/45525/.0018.scavengerhunt\n",
      "https://api.github.com/repos/ironhack-datalabs/scavenger/contents/70751/.0019.scavengerhunt\n",
      "https://api.github.com/repos/ironhack-datalabs/scavenger/contents/55685/.0020.scavengerhunt\n",
      "https://api.github.com/repos/ironhack-datalabs/scavenger/contents/30351/.0021.scavengerhunt\n",
      "https://api.github.com/repos/ironhack-datalabs/scavenger/contents/40303/.0022.scavengerhunt\n",
      "https://api.github.com/repos/ironhack-datalabs/scavenger/contents/55417/.0023.scavengerhunt\n",
      "https://api.github.com/repos/ironhack-datalabs/scavenger/contents/66032/28\n",
      "https://api.github.com/repos/ironhack-datalabs/scavenger/contents/64880/3\n",
      "https://api.github.com/repos/ironhack-datalabs/scavenger/contents/89046/64\n",
      "['In\\n', 'data\\n', 'science,\\n', '80\\n', 'percent\\n', 'of\\n', 'time\\n', 'spent\\n', 'is\\n', 'preparing\\n', 'data,\\n', 'percent\\n', 'of\\n', 'time\\n', 'is\\n', 'spent\\n', 'complaining\\n', 'about\\n', 'the\\n', 'need\\n', 'to\\n', 'prepare\\n', '', '', '']\n"
     ]
    }
   ],
   "source": [
    "words = []\n",
    "for directory, file in list_of_files:\n",
    "    url_file = \"https://api.github.com/repos/ironhack-datalabs/scavenger/contents/\"+directory+\"/\"+file\n",
    "    response_file = requests.get(url_file)\n",
    "    df_file = json_normalize(response_file.json())\n",
    "    base64_message = list(df_file.content)[0]\n",
    "    base64_bytes = base64_message.encode('ascii')\n",
    "    message_bytes = base64.b64decode(base64_bytes)\n",
    "    message = message_bytes.decode('ascii')\n",
    "    words.append(message)"
   ]
  },
  {
   "cell_type": "code",
   "execution_count": 84,
   "id": "c6513b92",
   "metadata": {},
   "outputs": [],
   "source": [
    "hidden_code = []\n",
    "for word in words:\n",
    "    hidden_code.append(word.replace(\"\\n\",\"\"))\n",
    "hidden_code.insert(11, '20')"
   ]
  },
  {
   "cell_type": "code",
   "execution_count": 86,
   "id": "ee109368",
   "metadata": {},
   "outputs": [
    {
     "name": "stdout",
     "output_type": "stream",
     "text": [
      "In data science, 80 percent of time spent is preparing data, 20 percent of time is spent complaining about the need to prepare\n"
     ]
    }
   ],
   "source": [
    "hidden_code = ' '.join(hidden_code[0:-3])\n",
    "print(hidden_code)"
   ]
  },
  {
   "cell_type": "code",
   "execution_count": null,
   "id": "c5b5d298",
   "metadata": {},
   "outputs": [],
   "source": []
  }
 ],
 "metadata": {
  "kernelspec": {
   "display_name": "Python 3 (ipykernel)",
   "language": "python",
   "name": "python3"
  },
  "language_info": {
   "codemirror_mode": {
    "name": "ipython",
    "version": 3
   },
   "file_extension": ".py",
   "mimetype": "text/x-python",
   "name": "python",
   "nbconvert_exporter": "python",
   "pygments_lexer": "ipython3",
   "version": "3.9.13"
  },
  "toc": {
   "base_numbering": 1,
   "nav_menu": {},
   "number_sections": true,
   "sideBar": true,
   "skip_h1_title": true,
   "title_cell": "Table of Contents",
   "title_sidebar": "Contents",
   "toc_cell": false,
   "toc_position": {},
   "toc_section_display": true,
   "toc_window_display": true
  }
 },
 "nbformat": 4,
 "nbformat_minor": 5
}
