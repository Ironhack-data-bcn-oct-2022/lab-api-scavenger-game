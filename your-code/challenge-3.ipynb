{
 "cells": [
  {
   "cell_type": "markdown",
   "id": "defensive-clock",
   "metadata": {},
   "source": [
    "# Challenge 3: Hidden Cold Joke\n",
    "\n",
    "Using Python, call Github API to find out the cold joke contained in the 24 secret files in the following repo:\n",
    "\n",
    "https://github.com/ironhack-datalabs/scavenger\n",
    "\n",
    "The filenames of the secret files contain .scavengerhunt and they are scattered in different directories of this repo. The secret files are named from .0001.scavengerhunt to .0024.scavengerhunt. They are scattered randomly throughout this repo. You need to search for these files by calling the Github API, not searching the local files on your computer.\n",
    "\n",
    "\n",
    "After you find out the secrete files:\n",
    "\n",
    "Sort the filenames ascendingly.\n",
    "\n",
    "Read the content of each secret files into an array of strings.\n",
    "\n",
    "Concatenate the strings in the array separating each two with a whitespace.\n",
    "\n",
    "Print out the joke."
   ]
  },
  {
   "cell_type": "markdown",
   "id": "universal-length",
   "metadata": {},
   "source": [
    "⚠️ **Remember to limit your output before submission**."
   ]
  },
  {
   "cell_type": "code",
   "execution_count": 11,
   "id": "toxic-trading",
   "metadata": {},
   "outputs": [],
   "source": [
    "import json\n",
    "import requests\n",
    "import os\n",
    "from dotenv import load_dotenv\n",
    "load_dotenv()\n",
    "github = os.getenv(\"token\")# Your code\n",
    "from pandas import json_normalize"
   ]
  },
  {
   "cell_type": "code",
   "execution_count": 59,
   "id": "static-stopping",
   "metadata": {},
   "outputs": [],
   "source": [
    "parameters = {\"Authorization\": f\"token {github}\"}\n",
    "user = \"ironhack-datalabs\"\n",
    "repo = \"scavenger\"\n",
    "tree_sha = \"9308ccc8a4c34c5e3a991ee815222a9691c32476\"\n",
    "url = f\"https://api.github.com/repos/{user}/{repo}/contents/\"\n",
    "file_list = json_normalize(requests.get(url, params = parameters).json())"
   ]
  },
  {
   "cell_type": "code",
   "execution_count": 60,
   "id": "4eab6a14",
   "metadata": {},
   "outputs": [],
   "source": [
    "file2_list = []\n",
    "dir_list = []\n",
    "for i, el in enumerate(file_list['type']):\n",
    "    if el == \"file\":\n",
    "        file2_list.append(file_list.name[i])\n",
    "    else:\n",
    "        dir_list.append(file_list.url[i])\n",
    "        "
   ]
  },
  {
   "cell_type": "code",
   "execution_count": 63,
   "id": "c4973a30",
   "metadata": {},
   "outputs": [],
   "source": [
    "name_list=[]\n",
    "for e in dir_list:\n",
    "    li = json_normalize(requests.get(e, params = parameters).json())\n",
    "    name_list.append(li)"
   ]
  },
  {
   "cell_type": "code",
   "execution_count": 68,
   "id": "e9710f10",
   "metadata": {},
   "outputs": [],
   "source": [
    "name_list2=[]\n",
    "for e in name_list:\n",
    "    name_list2.append(e.name[0])"
   ]
  },
  {
   "cell_type": "code",
   "execution_count": 69,
   "id": "f7c2b87b",
   "metadata": {},
   "outputs": [
    {
     "data": {
      "text/plain": [
       "['.0006.scavengerhunt',\n",
       " '.0008.scavengerhunt',\n",
       " '.0007.scavengerhunt',\n",
       " '.0021.scavengerhunt',\n",
       " '.0022.scavengerhunt',\n",
       " '.0005.scavengerhunt',\n",
       " '.0018.scavengerhunt',\n",
       " '.0016.scavengerhunt',\n",
       " '.0010.scavengerhunt',\n",
       " '.0014.scavengerhunt',\n",
       " '.0011.scavengerhunt',\n",
       " '.0023.scavengerhunt',\n",
       " '.0020.scavengerhunt',\n",
       " '.0003.scavengerhunt',\n",
       " '3',\n",
       " '28',\n",
       " '.0004.scavengerhunt',\n",
       " '.0019.scavengerhunt',\n",
       " '.0017.scavengerhunt',\n",
       " '.0002.scavengerhunt',\n",
       " '64',\n",
       " '.0013.scavengerhunt',\n",
       " '.0015.scavengerhunt',\n",
       " '.0009.scavengerhunt',\n",
       " '.0001.scavengerhunt']"
      ]
     },
     "execution_count": 69,
     "metadata": {},
     "output_type": "execute_result"
    }
   ],
   "source": [
    "name_list2"
   ]
  },
  {
   "cell_type": "code",
   "execution_count": null,
   "id": "34ddbab7",
   "metadata": {},
   "outputs": [],
   "source": []
  }
 ],
 "metadata": {
  "kernelspec": {
   "display_name": "Python 3 (ipykernel)",
   "language": "python",
   "name": "python3"
  },
  "language_info": {
   "codemirror_mode": {
    "name": "ipython",
    "version": 3
   },
   "file_extension": ".py",
   "mimetype": "text/x-python",
   "name": "python",
   "nbconvert_exporter": "python",
   "pygments_lexer": "ipython3",
   "version": "3.9.13"
  },
  "toc": {
   "base_numbering": 1,
   "nav_menu": {},
   "number_sections": true,
   "sideBar": true,
   "skip_h1_title": true,
   "title_cell": "Table of Contents",
   "title_sidebar": "Contents",
   "toc_cell": false,
   "toc_position": {},
   "toc_section_display": true,
   "toc_window_display": true
  }
 },
 "nbformat": 4,
 "nbformat_minor": 5
}
