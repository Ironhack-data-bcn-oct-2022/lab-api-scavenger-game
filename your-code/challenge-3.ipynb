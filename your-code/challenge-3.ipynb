{
 "cells": [
  {
   "cell_type": "markdown",
   "id": "defensive-clock",
   "metadata": {},
   "source": [
    "# Challenge 3: Hidden Cold Joke\n",
    "\n",
    "Using Python, call Github API to find out the cold joke contained in the 24 secret files in the following repo:\n",
    "\n",
    "https://github.com/ironhack-datalabs/scavenger\n",
    "\n",
    "The filenames of the secret files contain .scavengerhunt and they are scattered in different directories of this repo. The secret files are named from .0001.scavengerhunt to .0024.scavengerhunt. They are scattered randomly throughout this repo. You need to search for these files by calling the Github API, not searching the local files on your computer.\n",
    "\n",
    "\n",
    "After you find out the secrete files:\n",
    "\n",
    "Sort the filenames ascendingly.\n",
    "\n",
    "Read the content of each secret files into an array of strings.\n",
    "\n",
    "Concatenate the strings in the array separating each two with a whitespace.\n",
    "\n",
    "Print out the joke."
   ]
  },
  {
   "cell_type": "markdown",
   "id": "universal-length",
   "metadata": {},
   "source": [
    "⚠️ **Remember to limit your output before submission**."
   ]
  },
  {
   "cell_type": "code",
   "execution_count": 1,
   "id": "toxic-trading",
   "metadata": {},
   "outputs": [],
   "source": [
    "import json\n",
    "import requests\n",
    "import os\n",
    "from dotenv import load_dotenv\n",
    "load_dotenv()\n",
    "github = os.getenv(\"token\")# Your code\n",
    "from pandas import json_normalize"
   ]
  },
  {
   "cell_type": "code",
   "execution_count": 17,
   "id": "static-stopping",
   "metadata": {},
   "outputs": [],
   "source": [
    "parameters = {\"Authorization\": f\"token {github}\"}\n",
    "user = \"ironhack-datalabs\"\n",
    "repo = \"scavenger\"\n",
    "tree_sha = \"9308ccc8a4c34c5e3a991ee815222a9691c32476\"\n",
    "url = f\"https://api.github.com/repos/{user}/{repo}/contents/\"\n",
    "file_list = requests.get(url, params = parameters).json()"
   ]
  },
  {
   "cell_type": "code",
   "execution_count": 18,
   "id": "11fcd92b",
   "metadata": {},
   "outputs": [],
   "source": [
    "def has_dir(json):\n",
    "    dir = False\n",
    "    for el in json:\n",
    "        if el['type'] == \"dir\":\n",
    "            dir = True\n",
    "    return dir"
   ]
  },
  {
   "cell_type": "code",
   "execution_count": 19,
   "id": "65e0cf5e",
   "metadata": {},
   "outputs": [],
   "source": [
    "### to avoid beeing blocked I don't use a while\n",
    "file_list2 = []\n",
    "dir_list = []\n",
    "for file in file_list:\n",
    "        if file['type'] == \"file\":\n",
    "            file_list2.append(file)\n",
    "        else:\n",
    "            dir_con = requests.get(file['url'], params = parameters).json()\n",
    "            dir_list.append(dir_con)"
   ]
  },
  {
   "cell_type": "code",
   "execution_count": 21,
   "id": "ffa46df5",
   "metadata": {},
   "outputs": [],
   "source": [
    "dir_list = [item for sub in dir_list for item in sub]"
   ]
  },
  {
   "cell_type": "code",
   "execution_count": 27,
   "id": "2a4708d6",
   "metadata": {},
   "outputs": [
    {
     "data": {
      "text/plain": [
       "False"
      ]
     },
     "execution_count": 27,
     "metadata": {},
     "output_type": "execute_result"
    }
   ],
   "source": [
    "has_dir(dir_list)"
   ]
  },
  {
   "cell_type": "code",
   "execution_count": 24,
   "id": "ca5e5a88",
   "metadata": {},
   "outputs": [],
   "source": [
    "dir_list2 =[]\n",
    "for file in dir_list:\n",
    "        if file['type'] == \"file\":\n",
    "            file_list2.append(file)\n",
    "        else:\n",
    "            dir_con = requests.get(file['url'], params = parameters).json()\n",
    "            dir_list2.append(dir_con)"
   ]
  },
  {
   "cell_type": "code",
   "execution_count": 62,
   "id": "de88dca8",
   "metadata": {},
   "outputs": [],
   "source": [
    "file_list3 = []\n",
    "for file in file_list2:\n",
    "    if \".scavengerhunt\" in file[\"name\"]:\n",
    "        el = (file[\"name\"], file[\"download_url\"])\n",
    "        file_list3.append(el)\n",
    "file_list3.sort(key=lambda tup: tup[0])"
   ]
  },
  {
   "cell_type": "code",
   "execution_count": 76,
   "id": "3a70a5cd",
   "metadata": {},
   "outputs": [],
   "source": [
    "strings = []\n",
    "for el in file_list3:\n",
    "    response = requests.get(el[1], params = parameters)\n",
    "    strings.append(str(response.content))\n"
   ]
  },
  {
   "cell_type": "code",
   "execution_count": 84,
   "id": "50426b12",
   "metadata": {},
   "outputs": [
    {
     "data": {
      "text/plain": [
       "'In datascience, 80percent oftime spentis preparingdata, 20percent oftime isspent complainingabout theneed toprepare data.'"
      ]
     },
     "execution_count": 84,
     "metadata": {},
     "output_type": "execute_result"
    }
   ],
   "source": [
    "string = \"\"\n",
    "for i in range(0,len(strings), 2):\n",
    "    string = string + strings[i] + \" \" + strings[i+1]\n",
    "string = string.replace('\\n', '')\n",
    "string = string.replace(\"b'\", \"\")\n",
    "string = string.replace(\"\\\\n'\", \"\")\n",
    "string"
   ]
  },
  {
   "cell_type": "code",
   "execution_count": null,
   "id": "b047c778",
   "metadata": {},
   "outputs": [],
   "source": []
  }
 ],
 "metadata": {
  "kernelspec": {
   "display_name": "Python 3 (ipykernel)",
   "language": "python",
   "name": "python3"
  },
  "language_info": {
   "codemirror_mode": {
    "name": "ipython",
    "version": 3
   },
   "file_extension": ".py",
   "mimetype": "text/x-python",
   "name": "python",
   "nbconvert_exporter": "python",
   "pygments_lexer": "ipython3",
   "version": "3.9.13"
  },
  "toc": {
   "base_numbering": 1,
   "nav_menu": {},
   "number_sections": true,
   "sideBar": true,
   "skip_h1_title": true,
   "title_cell": "Table of Contents",
   "title_sidebar": "Contents",
   "toc_cell": false,
   "toc_position": {},
   "toc_section_display": true,
   "toc_window_display": true
  }
 },
 "nbformat": 4,
 "nbformat_minor": 5
}
